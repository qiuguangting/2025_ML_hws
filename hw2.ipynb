{
  "nbformat": 4,
  "nbformat_minor": 0,
  "metadata": {
    "colab": {
      "provenance": [],
      "authorship_tag": "ABX9TyPumHlNFrxMl6PZyM+xGYSX",
      "include_colab_link": true
    },
    "kernelspec": {
      "name": "python3",
      "display_name": "Python 3"
    },
    "language_info": {
      "name": "python"
    }
  },
  "cells": [
    {
      "cell_type": "markdown",
      "metadata": {
        "id": "view-in-github",
        "colab_type": "text"
      },
      "source": [
        "<a href=\"https://colab.research.google.com/github/qiuguangting/2025_ML_hws/blob/main/hw2.ipynb\" target=\"_parent\"><img src=\"https://colab.research.google.com/assets/colab-badge.svg\" alt=\"Open In Colab\"/></a>"
      ]
    },
    {
      "cell_type": "markdown",
      "source": [
        "# 載入Numpy"
      ],
      "metadata": {
        "id": "n0NYvnd1dCNg"
      }
    },
    {
      "cell_type": "code",
      "execution_count": 285,
      "metadata": {
        "id": "q7LV2-UFciL1"
      },
      "outputs": [],
      "source": [
        "import numpy as np"
      ]
    },
    {
      "cell_type": "markdown",
      "source": [
        "# 載入pyplot"
      ],
      "metadata": {
        "id": "HwcMBvqtdRK6"
      }
    },
    {
      "cell_type": "code",
      "source": [
        "import matplotlib.pyplot as plt"
      ],
      "metadata": {
        "id": "vrWrkBpBdA7F"
      },
      "execution_count": 286,
      "outputs": []
    },
    {
      "cell_type": "markdown",
      "source": [
        "# 激發函數relu"
      ],
      "metadata": {
        "id": "sblu3UbldanJ"
      }
    },
    {
      "cell_type": "code",
      "source": [
        "def relu(x):\n",
        "    return np.maximum(0, x)"
      ],
      "metadata": {
        "id": "hudqw2tvdYfF"
      },
      "execution_count": 287,
      "outputs": []
    },
    {
      "cell_type": "markdown",
      "source": [
        "# 激發函數sigmoid"
      ],
      "metadata": {
        "id": "yFN3qdQbddDE"
      }
    },
    {
      "cell_type": "code",
      "source": [
        "def sigmoid(x):\n",
        "    return 1/(1+np.exp(-x))"
      ],
      "metadata": {
        "id": "fg-E16BjdZ_O"
      },
      "execution_count": 288,
      "outputs": []
    },
    {
      "cell_type": "markdown",
      "source": [
        "# 激發函數softmax"
      ],
      "metadata": {
        "id": "XfT_I1phdifR"
      }
    },
    {
      "cell_type": "code",
      "source": [
        "def softmax(x):\n",
        "    c=np.max(x)\n",
        "    x = x - c\n",
        "    return np.exp(x) / np.sum(np.exp(x))"
      ],
      "metadata": {
        "id": "qxxj8MAhdcb0"
      },
      "execution_count": 289,
      "outputs": []
    },
    {
      "cell_type": "markdown",
      "source": [
        "# 計算交叉熵誤差"
      ],
      "metadata": {
        "id": "ibzqaD1Ydi2W"
      }
    },
    {
      "cell_type": "code",
      "source": [
        "def cross_entropy_error(y_hat, y):\n",
        "    return -np.sum(y * np.log(y_hat))"
      ],
      "metadata": {
        "id": "cIgpIOhHde9I"
      },
      "execution_count": 290,
      "outputs": []
    },
    {
      "cell_type": "markdown",
      "source": [
        "# 6個特徵值，5筆資料"
      ],
      "metadata": {
        "id": "BWh8khT2gzX_"
      }
    },
    {
      "cell_type": "code",
      "source": [
        "x = np.random.rand(6, 5)"
      ],
      "metadata": {
        "id": "VyKpq326ejtm"
      },
      "execution_count": 291,
      "outputs": []
    },
    {
      "cell_type": "code",
      "source": [
        "W1 = np.random.randn(5, 6)\n",
        "b1 = np.random.randn(5, 1)\n",
        "Z1 = np.dot(W1, x) + b1\n",
        "h1 = relu(Z1)"
      ],
      "metadata": {
        "id": "zXUlG9lcelhC"
      },
      "execution_count": 292,
      "outputs": []
    },
    {
      "cell_type": "markdown",
      "source": [
        "## 參數個數"
      ],
      "metadata": {
        "id": "xP4m7A6sjhCA"
      }
    },
    {
      "cell_type": "code",
      "source": [
        "print(\"權重:\",W1.size)\n",
        "print(\"偏值:\",b1.size)"
      ],
      "metadata": {
        "colab": {
          "base_uri": "https://localhost:8080/"
        },
        "id": "zyHnMjNZjceQ",
        "outputId": "a56c383c-eabf-441d-bde4-44ca2d7bd022"
      },
      "execution_count": 293,
      "outputs": [
        {
          "output_type": "stream",
          "name": "stdout",
          "text": [
            "權重: 30\n",
            "偏值: 5\n"
          ]
        }
      ]
    },
    {
      "cell_type": "markdown",
      "source": [
        "## 矩陣形狀&結果"
      ],
      "metadata": {
        "id": "7DPOAFmMj-yL"
      }
    },
    {
      "cell_type": "code",
      "source": [
        "print(\"權重：\",W1.shape)\n",
        "print(\"偏值：\",b1.shape)\n",
        "print(\"Z1:\",Z1.shape, Z1)\n",
        "print(\"h1:\",h1.shape, h1)"
      ],
      "metadata": {
        "colab": {
          "base_uri": "https://localhost:8080/"
        },
        "id": "1I7j70RdjlnI",
        "outputId": "b14b9f6d-9bfb-4049-8611-9c0368984b35"
      },
      "execution_count": 294,
      "outputs": [
        {
          "output_type": "stream",
          "name": "stdout",
          "text": [
            "權重： (5, 6)\n",
            "偏值： (5, 1)\n",
            "Z1: (5, 5) [[ 1.35180265  0.5493794   1.2980457   1.36466637  1.55126953]\n",
            " [ 1.45251347  1.1850938   0.42157615  1.4002907   1.77259168]\n",
            " [ 1.3547597   1.26253714  4.1054796   2.46733865  4.17269058]\n",
            " [-1.88518298 -1.00768076 -1.80952155 -2.0004837  -3.3840984 ]\n",
            " [-0.4950673  -1.91147584 -0.51258806 -1.12539876 -0.67027387]]\n",
            "h1: (5, 5) [[1.35180265 0.5493794  1.2980457  1.36466637 1.55126953]\n",
            " [1.45251347 1.1850938  0.42157615 1.4002907  1.77259168]\n",
            " [1.3547597  1.26253714 4.1054796  2.46733865 4.17269058]\n",
            " [0.         0.         0.         0.         0.        ]\n",
            " [0.         0.         0.         0.         0.        ]]\n"
          ]
        }
      ]
    },
    {
      "cell_type": "markdown",
      "source": [
        "## 繪製relu"
      ],
      "metadata": {
        "id": "zPIlSw1xkRgC"
      }
    },
    {
      "cell_type": "code",
      "source": [
        "x = np.arange(-8.0, 8.0, 0.1)\n",
        "y = relu(x)\n",
        "plt.plot(x,y)\n",
        "plt.ylim(-1.0, 10.5)\n",
        "plt.show()"
      ],
      "metadata": {
        "colab": {
          "base_uri": "https://localhost:8080/",
          "height": 430
        },
        "id": "BREpVg8MjsIC",
        "outputId": "d9e1ad2b-113b-45f9-ffb3-e94bc79a35a4"
      },
      "execution_count": 295,
      "outputs": [
        {
          "output_type": "display_data",
          "data": {
            "text/plain": [
              "<Figure size 640x480 with 1 Axes>"
            ],
            "image/png": "[encoded data removed]"
          },
          "metadata": {}
        }
      ]
    },
    {
      "cell_type": "markdown",
      "source": [
        "#第二層"
      ],
      "metadata": {
        "id": "ZsT4y1LSkVpg"
      }
    },
    {
      "cell_type": "code",
      "source": [
        "W2 = np.random.randn(4, 5)\n",
        "b2 = np.random.randn(4, 1)\n",
        "Z2 = np.dot(W2, h1) + b2\n",
        "h2 = relu(Z2)"
      ],
      "metadata": {
        "id": "7iOCg7rFkQCu"
      },
      "execution_count": 296,
      "outputs": []
    },
    {
      "cell_type": "markdown",
      "source": [
        "##參數個數"
      ],
      "metadata": {
        "id": "q1gpxKrpks7I"
      }
    },
    {
      "cell_type": "code",
      "source": [
        "print(\"權重:\",W2.size)\n",
        "print(\"偏值:\",b2.size)"
      ],
      "metadata": {
        "colab": {
          "base_uri": "https://localhost:8080/"
        },
        "id": "1IyIDY8FkmXe",
        "outputId": "5f0805d4-8005-4bc7-fea1-bae6a2f127c4"
      },
      "execution_count": 297,
      "outputs": [
        {
          "output_type": "stream",
          "name": "stdout",
          "text": [
            "權重: 20\n",
            "偏值: 4\n"
          ]
        }
      ]
    },
    {
      "cell_type": "markdown",
      "source": [
        "##矩陣形狀&結果"
      ],
      "metadata": {
        "id": "eywB3N_gkwGU"
      }
    },
    {
      "cell_type": "code",
      "source": [
        "print(\"權重：\",W2.shape)\n",
        "print(\"偏值：\",b2.shape)\n",
        "print(\"Z2:\",Z2.shape, Z2)\n",
        "print(\"h2:\",h2.shape, h2)"
      ],
      "metadata": {
        "colab": {
          "base_uri": "https://localhost:8080/"
        },
        "id": "bfgNtFWmkrQx",
        "outputId": "e91fe0f6-1cbc-438c-cca9-4161576492c6"
      },
      "execution_count": 298,
      "outputs": [
        {
          "output_type": "stream",
          "name": "stdout",
          "text": [
            "權重： (4, 5)\n",
            "偏值： (4, 1)\n",
            "Z2: (4, 5) [[-4.18836754 -3.56406396 -4.61453265 -4.98054184 -6.97890216]\n",
            " [ 2.14201036  1.43282299  2.20446506  2.23793056  2.57625514]\n",
            " [ 0.78585178  0.57266762  2.91279801  1.3548493   1.92699747]\n",
            " [ 2.06522474  1.22507967 -0.22498582  1.22943363  0.19518781]]\n",
            "h2: (4, 5) [[0.         0.         0.         0.         0.        ]\n",
            " [2.14201036 1.43282299 2.20446506 2.23793056 2.57625514]\n",
            " [0.78585178 0.57266762 2.91279801 1.3548493  1.92699747]\n",
            " [2.06522474 1.22507967 0.         1.22943363 0.19518781]]\n"
          ]
        }
      ]
    },
    {
      "cell_type": "markdown",
      "source": [
        "##繪製Relu"
      ],
      "metadata": {
        "id": "Krt5HiMMk2VO"
      }
    },
    {
      "cell_type": "code",
      "source": [
        "x = np.arange(-8.0, 8.0, 0.1)\n",
        "y = relu(x)\n",
        "plt.plot(x,y)\n",
        "plt.ylim(-1.0, 10.5)\n",
        "plt.show()"
      ],
      "metadata": {
        "colab": {
          "base_uri": "https://localhost:8080/",
          "height": 430
        },
        "id": "UXLQEr5kkvqO",
        "outputId": "2aca796c-64de-4b4f-9035-00faee909002"
      },
      "execution_count": 299,
      "outputs": [
        {
          "output_type": "display_data",
          "data": {
            "text/plain": [
              "<Figure size 640x480 with 1 Axes>"
            ],
            "image/png": "[encoded data removed]"
          },
          "metadata": {}
        }
      ]
    },
    {
      "cell_type": "markdown",
      "source": [
        "#第三層"
      ],
      "metadata": {
        "id": "C6CNeGlIk-Xa"
      }
    },
    {
      "cell_type": "code",
      "source": [
        "W3 = np.random.randn(4, 4)\n",
        "b3 = np.random.randn(4, 1)\n",
        "Z3 = np.dot(W3, h2) + b3  # 第三層加權和\n",
        "h3 = sigmoid(Z3)"
      ],
      "metadata": {
        "id": "R8ZI52Psk1cJ"
      },
      "execution_count": 300,
      "outputs": []
    },
    {
      "cell_type": "markdown",
      "source": [
        "##參數個數"
      ],
      "metadata": {
        "id": "wKMifUCMlLc1"
      }
    },
    {
      "cell_type": "code",
      "source": [
        "print(\"權重:\",W3.size)\n",
        "print(\"偏值:\",b3.size)"
      ],
      "metadata": {
        "colab": {
          "base_uri": "https://localhost:8080/"
        },
        "id": "ccpsfGR7lH09",
        "outputId": "39550c7f-a41c-4404-c647-962a07c4bcc3"
      },
      "execution_count": 301,
      "outputs": [
        {
          "output_type": "stream",
          "name": "stdout",
          "text": [
            "權重: 16\n",
            "偏值: 4\n"
          ]
        }
      ]
    },
    {
      "cell_type": "markdown",
      "source": [
        "##矩陣形狀&結果"
      ],
      "metadata": {
        "id": "URkis5galMVh"
      }
    },
    {
      "cell_type": "code",
      "source": [
        "print(\"權重：\",W3.shape)\n",
        "print(\"偏值：\",b3.shape)\n",
        "print(\"Z3:\",Z3.shape, Z3)\n",
        "print(\"h3:\",h3.shape, h3)"
      ],
      "metadata": {
        "colab": {
          "base_uri": "https://localhost:8080/"
        },
        "id": "1HfR3DXAlJlv",
        "outputId": "7e4959cd-300a-49b5-c8a6-542eeeaa19cc"
      },
      "execution_count": 302,
      "outputs": [
        {
          "output_type": "stream",
          "name": "stdout",
          "text": [
            "權重： (4, 4)\n",
            "偏值： (4, 1)\n",
            "Z3: (4, 5) [[-0.17379894  0.38024079  2.81457026  0.84240391  2.00265728]\n",
            " [-2.91369313 -2.47894063 -4.22416537 -3.42250222 -4.20981237]\n",
            " [ 2.20548398  2.12136942  7.54613088  3.98096443  6.16005374]\n",
            " [-1.47579833 -1.50069035 -3.61309195 -1.95512514 -2.26439253]]\n",
            "h3: (4, 5) [[0.45665931 0.59393118 0.94345811 0.69897127 0.88107579]\n",
            " [0.0514808  0.07734777 0.01442638 0.03159957 0.01463188]\n",
            " [0.90074089 0.89296289 0.99947213 0.98167447 0.99789231]\n",
            " [0.1860629  0.18232258 0.02626014 0.12399559 0.0941152 ]]\n"
          ]
        }
      ]
    },
    {
      "cell_type": "markdown",
      "source": [
        "#繪製Sigmoid"
      ],
      "metadata": {
        "id": "P1pkPDd0lcEY"
      }
    },
    {
      "cell_type": "code",
      "source": [
        "x = np.arange(-8.0, 8.0, 0.1)\n",
        "y = sigmoid(x)\n",
        "plt.plot(x, y)\n",
        "plt.ylim(-0.5, 1.5)\n",
        "plt.show()"
      ],
      "metadata": {
        "colab": {
          "base_uri": "https://localhost:8080/",
          "height": 435
        },
        "id": "f305lDRtlZXT",
        "outputId": "f393cc1b-84b3-4636-dee8-eafdefacb5c3"
      },
      "execution_count": 303,
      "outputs": [
        {
          "output_type": "display_data",
          "data": {
            "text/plain": [
              "<Figure size 640x480 with 1 Axes>"
            ],
            "image/png": "[encoded data removed]"
          },
          "metadata": {}
        }
      ]
    },
    {
      "cell_type": "markdown",
      "source": [
        "#第四層"
      ],
      "metadata": {
        "id": "ok2tlmS5lz5p"
      }
    },
    {
      "cell_type": "code",
      "source": [
        "W4 = np.random.randn(3, 4)\n",
        "b4 = np.random.randn(3, 1)\n",
        "Z4 = np.dot(W4, h3) + b4\n",
        "y_hat = softmax(Z4)"
      ],
      "metadata": {
        "id": "rU_R6psDlkKc"
      },
      "execution_count": 304,
      "outputs": []
    },
    {
      "cell_type": "markdown",
      "source": [
        "##參數個數"
      ],
      "metadata": {
        "id": "H5-I_5tCl21F"
      }
    },
    {
      "cell_type": "code",
      "source": [
        "print(\"權重:\",W4.size)\n",
        "print(\"偏值:\",b4.size)"
      ],
      "metadata": {
        "colab": {
          "base_uri": "https://localhost:8080/"
        },
        "id": "pt_9MKfalqCH",
        "outputId": "ab8840f2-34f7-4174-d8c6-7395a83ea674"
      },
      "execution_count": 305,
      "outputs": [
        {
          "output_type": "stream",
          "name": "stdout",
          "text": [
            "權重: 12\n",
            "偏值: 3\n"
          ]
        }
      ]
    },
    {
      "cell_type": "markdown",
      "source": [
        "##矩陣形狀&結果"
      ],
      "metadata": {
        "id": "5Y-r4Phtl3li"
      }
    },
    {
      "cell_type": "code",
      "source": [
        "print(\"權重：\",W4.shape)\n",
        "print(\"偏值：\",b4.shape)\n",
        "print(\"Z4:\",Z4.shape, Z4)\n",
        "print(\"y_hat:\",y_hat.shape, y_hat)"
      ],
      "metadata": {
        "colab": {
          "base_uri": "https://localhost:8080/"
        },
        "id": "4mb1OdZ-lu_W",
        "outputId": "02103470-8a4a-48ba-b3ca-d340c104c664"
      },
      "execution_count": 306,
      "outputs": [
        {
          "output_type": "stream",
          "name": "stdout",
          "text": [
            "權重： (3, 4)\n",
            "偏值： (3, 1)\n",
            "Z4: (3, 5) [[-0.3031559  -0.29338166 -0.33451189 -0.30584464 -0.30370902]\n",
            " [ 1.44938162  1.54599749  2.07684384  1.78244101  2.007462  ]\n",
            " [-0.20416573 -0.41431343 -0.63155065 -0.44354327 -0.64556741]]\n",
            "y_hat: (3, 5) [[0.01986795 0.02006309 0.01925463 0.0198146  0.01985696]\n",
            " [0.11462262 0.12624962 0.21467116 0.15992493 0.20028183]\n",
            " [0.02193531 0.01777779 0.01430648 0.01726567 0.01410735]]\n"
          ]
        }
      ]
    },
    {
      "cell_type": "markdown",
      "source": [
        "##計算交叉熵誤差"
      ],
      "metadata": {
        "id": "Bfsb3Jjhl5a4"
      }
    },
    {
      "cell_type": "code",
      "source": [
        "y = np.array([[0], [0], [1]])\n",
        "np.log(y_hat)\n",
        "y*np.log(y_hat)\n",
        "loss = cross_entropy_error(y_hat, y)\n",
        "print(loss)"
      ],
      "metadata": {
        "colab": {
          "base_uri": "https://localhost:8080/"
        },
        "id": "9eqPGw9Ulxro",
        "outputId": "56d883e5-ef8a-4535-8bb5-f8c523bddbe5"
      },
      "execution_count": 307,
      "outputs": [
        {
          "output_type": "stream",
          "name": "stdout",
          "text": [
            "20.416599214989606\n"
          ]
        }
      ]
    },
    {
      "cell_type": "markdown",
      "source": [
        "#XY"
      ],
      "metadata": {
        "id": "IN1N4ASUmzZQ"
      }
    },
    {
      "cell_type": "code",
      "source": [
        "x = np.random.rand(6, 5)\n",
        "y = np.eye(3)[np.random.choice(3, 5)].T"
      ],
      "metadata": {
        "id": "RkRr-EpKmXww"
      },
      "execution_count": 308,
      "outputs": []
    },
    {
      "cell_type": "code",
      "source": [
        "print(\"x 的形狀:\", x.shape)\n",
        "print(\"y 的形狀:\", y.shape)"
      ],
      "metadata": {
        "colab": {
          "base_uri": "https://localhost:8080/"
        },
        "id": "LDkdVpSXmeYZ",
        "outputId": "25025bca-8a8c-495a-a271-d8edc913f723"
      },
      "execution_count": 309,
      "outputs": [
        {
          "output_type": "stream",
          "name": "stdout",
          "text": [
            "x 的形狀: (6, 5)\n",
            "y 的形狀: (3, 5)\n"
          ]
        }
      ]
    },
    {
      "cell_type": "code",
      "source": [
        "print(x)\n",
        "print(y)"
      ],
      "metadata": {
        "colab": {
          "base_uri": "https://localhost:8080/"
        },
        "id": "tctL4v-rmjL_",
        "outputId": "65e36cc3-4515-49f3-bec7-4ed6fa2456a7"
      },
      "execution_count": 310,
      "outputs": [
        {
          "output_type": "stream",
          "name": "stdout",
          "text": [
            "[[0.10032162 0.05298461 0.92124453 0.75204339 0.73084379]\n",
            " [0.15194007 0.86076397 0.23906977 0.41008671 0.77752925]\n",
            " [0.74132627 0.9994082  0.15095214 0.4095719  0.15723781]\n",
            " [0.94663976 0.5915291  0.17222242 0.74589982 0.30604826]\n",
            " [0.66742095 0.36934497 0.98397681 0.89571233 0.97262666]\n",
            " [0.77083496 0.51576026 0.44025113 0.96120418 0.51559575]]\n",
            "[[0. 0. 0. 0. 0.]\n",
            " [0. 1. 1. 0. 0.]\n",
            " [1. 0. 0. 1. 1.]]\n"
          ]
        }
      ]
    },
    {
      "cell_type": "code",
      "source": [
        "W1 = np.random.randn(5, 6)\n",
        "b1 = np.random.randn(5, 1)\n",
        "W2 = np.random.randn(4, 5)\n",
        "b2 = np.random.randn(4, 1)\n",
        "W3 = np.random.randn(4, 4)\n",
        "b3 = np.random.randn(4, 1)\n",
        "W4 = np.random.randn(3, 4)\n",
        "b4 = np.random.randn(3, 1)"
      ],
      "metadata": {
        "id": "5OXiCwP7nE0B"
      },
      "execution_count": 311,
      "outputs": []
    },
    {
      "cell_type": "code",
      "source": [
        "Z1 = np.dot(W1, x) + b1\n",
        "h1 = relu(Z1)\n",
        "\n",
        "Z2 = np.dot(W2, h1) + b2\n",
        "h2 = relu(Z2)\n",
        "\n",
        "Z3 = np.dot(W3, h2) + b3\n",
        "h3 = 1 / (1 + np.exp(-Z3))\n",
        "\n",
        "Z4 = np.dot(W4, h3) + b4\n",
        "y_hat = softmax(Z4)"
      ],
      "metadata": {
        "id": "EWNZYcEGngQP"
      },
      "execution_count": 312,
      "outputs": []
    },
    {
      "cell_type": "code",
      "source": [
        "loss = cross_entropy_error(y_hat, y)"
      ],
      "metadata": {
        "id": "TOAm9tshni3A"
      },
      "execution_count": 313,
      "outputs": []
    },
    {
      "cell_type": "code",
      "source": [
        "print(\"x 的形狀:\", x.shape)\n",
        "print(\"y 的形狀:\", y.shape)\n",
        "print(\"W1:\", W1.shape, \"b1:\", b1.shape)\n",
        "print(\"W2:\", W2.shape, \"b2:\", b2.shape)\n",
        "print(\"W3:\", W3.shape, \"b3:\", b3.shape)\n",
        "print(\"W4:\", W4.shape, \"b4:\", b4.shape)\n",
        "print(\"Z1:\", Z1.shape, \"H1:\", h1.shape)\n",
        "print(\"Z2:\", Z2.shape, \"H2:\", h2.shape)\n",
        "print(\"Z3:\", Z3.shape, \"H3:\", h3.shape)\n",
        "print(\"Z4:\", Z4.shape, \"y_hat:\", y_hat.shape)\n",
        "print(\"平均交叉熵損失:\", loss)"
      ],
      "metadata": {
        "colab": {
          "base_uri": "https://localhost:8080/"
        },
        "id": "pYhbtjxankXH",
        "outputId": "8b7b63b4-fffa-4317-9dde-1bc2f2e7e4bc"
      },
      "execution_count": 314,
      "outputs": [
        {
          "output_type": "stream",
          "name": "stdout",
          "text": [
            "x 的形狀: (6, 5)\n",
            "y 的形狀: (3, 5)\n",
            "W1: (5, 6) b1: (5, 1)\n",
            "W2: (4, 5) b2: (4, 1)\n",
            "W3: (4, 4) b3: (4, 1)\n",
            "W4: (3, 4) b4: (3, 1)\n",
            "Z1: (5, 5) H1: (5, 5)\n",
            "Z2: (4, 5) H2: (4, 5)\n",
            "Z3: (4, 5) H3: (4, 5)\n",
            "Z4: (3, 5) y_hat: (3, 5)\n",
            "平均交叉熵損失: 19.751495955577692\n"
          ]
        }
      ]
    },
    {
      "cell_type": "code",
      "source": [
        "x_plot = np.arange(-5.0, 5.0, 0.1)\n",
        "y_plot = relu(x_plot)\n",
        "plt.plot(x_plot, y_plot)\n",
        "plt.ylim(-1.0, 5.5)\n",
        "plt.show()"
      ],
      "metadata": {
        "colab": {
          "base_uri": "https://localhost:8080/",
          "height": 430
        },
        "id": "6nvJgssennLE",
        "outputId": "8e9d61bb-ec3d-4ac4-dc31-8d25219ae456"
      },
      "execution_count": 315,
      "outputs": [
        {
          "output_type": "display_data",
          "data": {
            "text/plain": [
              "<Figure size 640x480 with 1 Axes>"
            ],
            "image/png": "[encoded data removed]"
          },
          "metadata": {}
        }
      ]
    }
  ]
}