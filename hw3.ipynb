{
  "nbformat": 4,
  "nbformat_minor": 0,
  "metadata": {
    "colab": {
      "provenance": [],
      "authorship_tag": "ABX9TyPKOzCtxeAKBUlcsddjEYZG",
      "include_colab_link": true
    },
    "kernelspec": {
      "name": "python3",
      "display_name": "Python 3"
    },
    "language_info": {
      "name": "python"
    }
  },
  "cells": [
    {
      "cell_type": "markdown",
      "metadata": {
        "id": "view-in-github",
        "colab_type": "text"
      },
      "source": [
        "<a href=\"https://colab.research.google.com/github/qiuguangting/2025_ML_hws/blob/main/hw3.ipynb\" target=\"_parent\"><img src=\"https://colab.research.google.com/assets/colab-badge.svg\" alt=\"Open In Colab\"/></a>"
      ]
    },
    {
      "cell_type": "markdown",
      "source": [
        "#資料預處理"
      ],
      "metadata": {
        "id": "Xci-Har64ekW"
      }
    },
    {
      "cell_type": "code",
      "execution_count": 425,
      "metadata": {
        "id": "PQhWRK1-4LdQ"
      },
      "outputs": [],
      "source": [
        "import tensorflow as tf"
      ]
    },
    {
      "cell_type": "code",
      "source": [
        "tf.__version__"
      ],
      "metadata": {
        "colab": {
          "base_uri": "https://localhost:8080/",
          "height": 35
        },
        "id": "boVCSkWf4Sqi",
        "outputId": "f2255b0a-7f2f-45fd-bf4c-a4a9789e41c2"
      },
      "execution_count": 426,
      "outputs": [
        {
          "output_type": "execute_result",
          "data": {
            "text/plain": [
              "'2.18.0'"
            ],
            "application/vnd.google.colaboratory.intrinsic+json": {
              "type": "string"
            }
          },
          "metadata": {},
          "execution_count": 426
        }
      ]
    },
    {
      "cell_type": "code",
      "source": [
        "from tensorflow.keras import utils\n",
        "import numpy as np"
      ],
      "metadata": {
        "id": "bqR2v7tb4U7q"
      },
      "execution_count": 427,
      "outputs": []
    },
    {
      "cell_type": "code",
      "source": [
        "from tensorflow.keras.datasets import fashion_mnist\n",
        "(x_train_image,y_train_label),\\\n",
        "(x_test_image,y_test_label)= fashion_mnist.load_data()"
      ],
      "metadata": {
        "id": "oxVgvzf24XU7"
      },
      "execution_count": 428,
      "outputs": []
    },
    {
      "cell_type": "code",
      "source": [
        "x_Train =x_train_image.reshape(60000, 784).astype('float32')\n",
        "x_Test = x_test_image.reshape(10000, 784).astype('float32')"
      ],
      "metadata": {
        "id": "LYOKnUup4Xqx"
      },
      "execution_count": 429,
      "outputs": []
    },
    {
      "cell_type": "code",
      "source": [
        "x_Train_normalize = x_Train / 255\n",
        "x_Test_normalize = x_Test / 255"
      ],
      "metadata": {
        "id": "9l8RaKgz4Y79"
      },
      "execution_count": 430,
      "outputs": []
    },
    {
      "cell_type": "code",
      "source": [
        "y_Train_OneHot = utils.to_categorical(y_train_label)\n",
        "y_Test_OneHot = utils.to_categorical(y_test_label)"
      ],
      "metadata": {
        "id": "Y0WVl60M4aFe"
      },
      "execution_count": 431,
      "outputs": []
    },
    {
      "cell_type": "code",
      "source": [
        "print(\"訓練資料形狀:\", x_Train.shape)\n",
        "print(\"測試資料形狀:\", x_Test.shape)"
      ],
      "metadata": {
        "colab": {
          "base_uri": "https://localhost:8080/"
        },
        "id": "4wMALD354bqM",
        "outputId": "88b925dd-f183-4079-c936-b24b566364e7"
      },
      "execution_count": 432,
      "outputs": [
        {
          "output_type": "stream",
          "name": "stdout",
          "text": [
            "訓練資料形狀: (60000, 784)\n",
            "測試資料形狀: (10000, 784)\n"
          ]
        }
      ]
    },
    {
      "cell_type": "markdown",
      "source": [
        "##訓練資料(圖片)"
      ],
      "metadata": {
        "id": "dhhPxoya7xY3"
      }
    },
    {
      "cell_type": "code",
      "source": [
        "import matplotlib.pyplot as plt\n",
        "\n",
        "(x_train, y_train), (x_test, y_test) = fashion_mnist.load_data()\n",
        "\n",
        "class_names = ['T-shirt/top', 'Trouser', 'Pullover', 'Dress', 'Coat',\n",
        "               'Sandal', 'Shirt', 'Sneaker', 'Bag', 'Ankle boot']\n",
        "\n",
        "plt.figure(figsize=(10, 4))\n",
        "\n",
        "for i in range(3):\n",
        "    plt.subplot(1, 3, i+1)\n",
        "    plt.imshow(x_train[i], cmap='binary')\n",
        "    plt.title(f\"Label: {class_names[y_train[i]]}\")\n",
        "    plt.axis('off')\n",
        "plt.show()"
      ],
      "metadata": {
        "colab": {
          "base_uri": "https://localhost:8080/",
          "height": 287
        },
        "id": "gTVwzS9747Mg",
        "outputId": "d9b980dd-cbee-45d2-d7cd-45e8421ae5a2"
      },
      "execution_count": 433,
      "outputs": [
        {
          "output_type": "display_data",
          "data": {
            "text/plain": [
              "<Figure size 1000x400 with 3 Axes>"
            ],
            "image/png": "[encoded data removed]"
          },
          "metadata": {}
        }
      ]
    },
    {
      "cell_type": "markdown",
      "source": [
        "#建立模型"
      ],
      "metadata": {
        "id": "LnMWV2bF4pIS"
      }
    },
    {
      "cell_type": "code",
      "source": [
        "from keras.models import Sequential\n",
        "from keras.layers import Dense\n",
        "from keras.layers import Dropout"
      ],
      "metadata": {
        "id": "vz789mIl4cwU"
      },
      "execution_count": 434,
      "outputs": []
    },
    {
      "cell_type": "code",
      "source": [
        "model = Sequential()"
      ],
      "metadata": {
        "id": "KPmS6MvM4kmB"
      },
      "execution_count": 435,
      "outputs": []
    },
    {
      "cell_type": "markdown",
      "source": [
        "##輸入層"
      ],
      "metadata": {
        "id": "YkLnqnDa4vDN"
      }
    },
    {
      "cell_type": "code",
      "source": [
        "model.add(Dense(units=700,\n",
        "                input_dim=784,\n",
        "                kernel_initializer='normal',\n",
        "                activation='relu'))"
      ],
      "metadata": {
        "colab": {
          "base_uri": "https://localhost:8080/"
        },
        "id": "Nwj7aioF4vfb",
        "outputId": "d1df0a4d-c7e2-432b-fd2c-03c803109f5b"
      },
      "execution_count": 461,
      "outputs": [
        {
          "output_type": "stream",
          "name": "stderr",
          "text": [
            "/usr/local/lib/python3.11/dist-packages/keras/src/layers/core/dense.py:87: UserWarning: Do not pass an `input_shape`/`input_dim` argument to a layer. When using Sequential models, prefer using an `Input(shape)` object as the first layer in the model instead.\n",
            "  super().__init__(activity_regularizer=activity_regularizer, **kwargs)\n"
          ]
        }
      ]
    },
    {
      "cell_type": "markdown",
      "source": [
        "##防止 overfitting"
      ],
      "metadata": {
        "id": "lUeZE-0440Dq"
      }
    },
    {
      "cell_type": "code",
      "source": [
        "model.add(Dropout(0.3))"
      ],
      "metadata": {
        "id": "V6A9ONLm4yYt"
      },
      "execution_count": 437,
      "outputs": []
    },
    {
      "cell_type": "markdown",
      "source": [
        "##第一隱藏層"
      ],
      "metadata": {
        "id": "UASu_2lS5x5k"
      }
    },
    {
      "cell_type": "code",
      "source": [
        "model.add(Dense(units=2000,\n",
        "                kernel_initializer='normal',\n",
        "                activation='relu'))"
      ],
      "metadata": {
        "id": "h0eaYbDz5xFJ"
      },
      "execution_count": 438,
      "outputs": []
    },
    {
      "cell_type": "code",
      "source": [
        "model.add(Dropout(0.3))"
      ],
      "metadata": {
        "id": "QcHokk_K58s7"
      },
      "execution_count": 439,
      "outputs": []
    },
    {
      "cell_type": "markdown",
      "source": [
        "##輸出層"
      ],
      "metadata": {
        "id": "9ObnKCaL5hhs"
      }
    },
    {
      "cell_type": "code",
      "source": [
        "model.add(Dense(units=10,\n",
        "                kernel_initializer='normal',\n",
        "                activation='softmax'))"
      ],
      "metadata": {
        "id": "ip8ooiLI5jY5"
      },
      "execution_count": 440,
      "outputs": []
    },
    {
      "cell_type": "markdown",
      "source": [
        "#檢視建置的神經網路"
      ],
      "metadata": {
        "id": "SAUDDBal5l-R"
      }
    },
    {
      "cell_type": "code",
      "source": [
        "print(model.summary())"
      ],
      "metadata": {
        "colab": {
          "base_uri": "https://localhost:8080/",
          "height": 323
        },
        "id": "WNusmcXf5kvp",
        "outputId": "8c5e8368-8afd-42d3-a42e-b46cf844c1b6"
      },
      "execution_count": 441,
      "outputs": [
        {
          "output_type": "display_data",
          "data": {
            "text/plain": [
              "\u001b[1mModel: \"sequential_12\"\u001b[0m\n"
            ],
            "text/html": [
              "<pre style=\"white-space:pre;overflow-x:auto;line-height:normal;font-family:Menlo,'DejaVu Sans Mono',consolas,'Courier New',monospace\"><span style=\"font-weight: bold\">Model: \"sequential_12\"</span>\n",
              "</pre>\n"
            ]
          },
          "metadata": {}
        },
        {
          "output_type": "display_data",
          "data": {
            "text/plain": [
              "┏━━━━━━━━━━━━━━━━━━━━━━━━━━━━━━━━━━━━━━┳━━━━━━━━━━━━━━━━━━━━━━━━━━━━━┳━━━━━━━━━━━━━━━━━┓\n",
              "┃\u001b[1m \u001b[0m\u001b[1mLayer (type)                        \u001b[0m\u001b[1m \u001b[0m┃\u001b[1m \u001b[0m\u001b[1mOutput Shape               \u001b[0m\u001b[1m \u001b[0m┃\u001b[1m \u001b[0m\u001b[1m        Param #\u001b[0m\u001b[1m \u001b[0m┃\n",
              "┡━━━━━━━━━━━━━━━━━━━━━━━━━━━━━━━━━━━━━━╇━━━━━━━━━━━━━━━━━━━━━━━━━━━━━╇━━━━━━━━━━━━━━━━━┩\n",
              "│ dense_38 (\u001b[38;5;33mDense\u001b[0m)                     │ (\u001b[38;5;45mNone\u001b[0m, \u001b[38;5;34m700\u001b[0m)                 │         \u001b[38;5;34m549,500\u001b[0m │\n",
              "├──────────────────────────────────────┼─────────────────────────────┼─────────────────┤\n",
              "│ dropout_26 (\u001b[38;5;33mDropout\u001b[0m)                 │ (\u001b[38;5;45mNone\u001b[0m, \u001b[38;5;34m700\u001b[0m)                 │               \u001b[38;5;34m0\u001b[0m │\n",
              "├──────────────────────────────────────┼─────────────────────────────┼─────────────────┤\n",
              "│ dense_39 (\u001b[38;5;33mDense\u001b[0m)                     │ (\u001b[38;5;45mNone\u001b[0m, \u001b[38;5;34m2000\u001b[0m)                │       \u001b[38;5;34m1,402,000\u001b[0m │\n",
              "├──────────────────────────────────────┼─────────────────────────────┼─────────────────┤\n",
              "│ dropout_27 (\u001b[38;5;33mDropout\u001b[0m)                 │ (\u001b[38;5;45mNone\u001b[0m, \u001b[38;5;34m2000\u001b[0m)                │               \u001b[38;5;34m0\u001b[0m │\n",
              "├──────────────────────────────────────┼─────────────────────────────┼─────────────────┤\n",
              "│ dense_40 (\u001b[38;5;33mDense\u001b[0m)                     │ (\u001b[38;5;45mNone\u001b[0m, \u001b[38;5;34m10\u001b[0m)                  │          \u001b[38;5;34m20,010\u001b[0m │\n",
              "└──────────────────────────────────────┴─────────────────────────────┴─────────────────┘\n"
            ],
            "text/html": [
              "<pre style=\"white-space:pre;overflow-x:auto;line-height:normal;font-family:Menlo,'DejaVu Sans Mono',consolas,'Courier New',monospace\">┏━━━━━━━━━━━━━━━━━━━━━━━━━━━━━━━━━━━━━━┳━━━━━━━━━━━━━━━━━━━━━━━━━━━━━┳━━━━━━━━━━━━━━━━━┓\n",
              "┃<span style=\"font-weight: bold\"> Layer (type)                         </span>┃<span style=\"font-weight: bold\"> Output Shape                </span>┃<span style=\"font-weight: bold\">         Param # </span>┃\n",
              "┡━━━━━━━━━━━━━━━━━━━━━━━━━━━━━━━━━━━━━━╇━━━━━━━━━━━━━━━━━━━━━━━━━━━━━╇━━━━━━━━━━━━━━━━━┩\n",
              "│ dense_38 (<span style=\"color: #0087ff; text-decoration-color: #0087ff\">Dense</span>)                     │ (<span style=\"color: #00d7ff; text-decoration-color: #00d7ff\">None</span>, <span style=\"color: #00af00; text-decoration-color: #00af00\">700</span>)                 │         <span style=\"color: #00af00; text-decoration-color: #00af00\">549,500</span> │\n",
              "├──────────────────────────────────────┼─────────────────────────────┼─────────────────┤\n",
              "│ dropout_26 (<span style=\"color: #0087ff; text-decoration-color: #0087ff\">Dropout</span>)                 │ (<span style=\"color: #00d7ff; text-decoration-color: #00d7ff\">None</span>, <span style=\"color: #00af00; text-decoration-color: #00af00\">700</span>)                 │               <span style=\"color: #00af00; text-decoration-color: #00af00\">0</span> │\n",
              "├──────────────────────────────────────┼─────────────────────────────┼─────────────────┤\n",
              "│ dense_39 (<span style=\"color: #0087ff; text-decoration-color: #0087ff\">Dense</span>)                     │ (<span style=\"color: #00d7ff; text-decoration-color: #00d7ff\">None</span>, <span style=\"color: #00af00; text-decoration-color: #00af00\">2000</span>)                │       <span style=\"color: #00af00; text-decoration-color: #00af00\">1,402,000</span> │\n",
              "├──────────────────────────────────────┼─────────────────────────────┼─────────────────┤\n",
              "│ dropout_27 (<span style=\"color: #0087ff; text-decoration-color: #0087ff\">Dropout</span>)                 │ (<span style=\"color: #00d7ff; text-decoration-color: #00d7ff\">None</span>, <span style=\"color: #00af00; text-decoration-color: #00af00\">2000</span>)                │               <span style=\"color: #00af00; text-decoration-color: #00af00\">0</span> │\n",
              "├──────────────────────────────────────┼─────────────────────────────┼─────────────────┤\n",
              "│ dense_40 (<span style=\"color: #0087ff; text-decoration-color: #0087ff\">Dense</span>)                     │ (<span style=\"color: #00d7ff; text-decoration-color: #00d7ff\">None</span>, <span style=\"color: #00af00; text-decoration-color: #00af00\">10</span>)                  │          <span style=\"color: #00af00; text-decoration-color: #00af00\">20,010</span> │\n",
              "└──────────────────────────────────────┴─────────────────────────────┴─────────────────┘\n",
              "</pre>\n"
            ]
          },
          "metadata": {}
        },
        {
          "output_type": "display_data",
          "data": {
            "text/plain": [
              "\u001b[1m Total params: \u001b[0m\u001b[38;5;34m1,971,510\u001b[0m (7.52 MB)\n"
            ],
            "text/html": [
              "<pre style=\"white-space:pre;overflow-x:auto;line-height:normal;font-family:Menlo,'DejaVu Sans Mono',consolas,'Courier New',monospace\"><span style=\"font-weight: bold\"> Total params: </span><span style=\"color: #00af00; text-decoration-color: #00af00\">1,971,510</span> (7.52 MB)\n",
              "</pre>\n"
            ]
          },
          "metadata": {}
        },
        {
          "output_type": "display_data",
          "data": {
            "text/plain": [
              "\u001b[1m Trainable params: \u001b[0m\u001b[38;5;34m1,971,510\u001b[0m (7.52 MB)\n"
            ],
            "text/html": [
              "<pre style=\"white-space:pre;overflow-x:auto;line-height:normal;font-family:Menlo,'DejaVu Sans Mono',consolas,'Courier New',monospace\"><span style=\"font-weight: bold\"> Trainable params: </span><span style=\"color: #00af00; text-decoration-color: #00af00\">1,971,510</span> (7.52 MB)\n",
              "</pre>\n"
            ]
          },
          "metadata": {}
        },
        {
          "output_type": "display_data",
          "data": {
            "text/plain": [
              "\u001b[1m Non-trainable params: \u001b[0m\u001b[38;5;34m0\u001b[0m (0.00 B)\n"
            ],
            "text/html": [
              "<pre style=\"white-space:pre;overflow-x:auto;line-height:normal;font-family:Menlo,'DejaVu Sans Mono',consolas,'Courier New',monospace\"><span style=\"font-weight: bold\"> Non-trainable params: </span><span style=\"color: #00af00; text-decoration-color: #00af00\">0</span> (0.00 B)\n",
              "</pre>\n"
            ]
          },
          "metadata": {}
        },
        {
          "output_type": "stream",
          "name": "stdout",
          "text": [
            "None\n"
          ]
        }
      ]
    },
    {
      "cell_type": "markdown",
      "source": [
        "#訓練模型"
      ],
      "metadata": {
        "id": "j8vF2pk86Jb2"
      }
    },
    {
      "cell_type": "code",
      "source": [
        "model.compile(loss='categorical_crossentropy',\n",
        "              optimizer='adam', metrics=['accuracy'])"
      ],
      "metadata": {
        "id": "4DeHcdmy59jQ"
      },
      "execution_count": 442,
      "outputs": []
    },
    {
      "cell_type": "code",
      "source": [
        "train_history=model.fit(x=x_Train_normalize,\n",
        "                        y=y_Train_OneHot,validation_split=0.2,\n",
        "                        epochs=80, batch_size=200,verbose=2)"
      ],
      "metadata": {
        "colab": {
          "base_uri": "https://localhost:8080/"
        },
        "id": "fn2jrN_S6LwF",
        "outputId": "5ceb0a48-2c89-4959-be27-635f0b01acfd"
      },
      "execution_count": 443,
      "outputs": [
        {
          "output_type": "stream",
          "name": "stdout",
          "text": [
            "Epoch 1/80\n",
            "240/240 - 20s - 83ms/step - accuracy: 0.7989 - loss: 0.5688 - val_accuracy: 0.8498 - val_loss: 0.4065\n",
            "Epoch 2/80\n",
            "240/240 - 18s - 73ms/step - accuracy: 0.8502 - loss: 0.4127 - val_accuracy: 0.8644 - val_loss: 0.3827\n",
            "Epoch 3/80\n",
            "240/240 - 20s - 82ms/step - accuracy: 0.8622 - loss: 0.3789 - val_accuracy: 0.8715 - val_loss: 0.3590\n",
            "Epoch 4/80\n",
            "240/240 - 23s - 94ms/step - accuracy: 0.8706 - loss: 0.3491 - val_accuracy: 0.8723 - val_loss: 0.3514\n",
            "Epoch 5/80\n",
            "240/240 - 17s - 71ms/step - accuracy: 0.8758 - loss: 0.3337 - val_accuracy: 0.8837 - val_loss: 0.3233\n",
            "Epoch 6/80\n",
            "240/240 - 20s - 84ms/step - accuracy: 0.8811 - loss: 0.3182 - val_accuracy: 0.8802 - val_loss: 0.3268\n",
            "Epoch 7/80\n",
            "240/240 - 21s - 86ms/step - accuracy: 0.8854 - loss: 0.3124 - val_accuracy: 0.8844 - val_loss: 0.3224\n",
            "Epoch 8/80\n",
            "240/240 - 21s - 86ms/step - accuracy: 0.8893 - loss: 0.2983 - val_accuracy: 0.8822 - val_loss: 0.3319\n",
            "Epoch 9/80\n",
            "240/240 - 20s - 85ms/step - accuracy: 0.8924 - loss: 0.2895 - val_accuracy: 0.8885 - val_loss: 0.3180\n",
            "Epoch 10/80\n",
            "240/240 - 20s - 85ms/step - accuracy: 0.8936 - loss: 0.2860 - val_accuracy: 0.8813 - val_loss: 0.3156\n",
            "Epoch 11/80\n",
            "240/240 - 20s - 85ms/step - accuracy: 0.8961 - loss: 0.2773 - val_accuracy: 0.8899 - val_loss: 0.3156\n",
            "Epoch 12/80\n",
            "240/240 - 20s - 85ms/step - accuracy: 0.8986 - loss: 0.2703 - val_accuracy: 0.8919 - val_loss: 0.3050\n",
            "Epoch 13/80\n",
            "240/240 - 21s - 86ms/step - accuracy: 0.9010 - loss: 0.2650 - val_accuracy: 0.8897 - val_loss: 0.3126\n",
            "Epoch 14/80\n",
            "240/240 - 20s - 85ms/step - accuracy: 0.8999 - loss: 0.2607 - val_accuracy: 0.8895 - val_loss: 0.3109\n",
            "Epoch 15/80\n",
            "240/240 - 21s - 87ms/step - accuracy: 0.9027 - loss: 0.2581 - val_accuracy: 0.8852 - val_loss: 0.3144\n",
            "Epoch 16/80\n",
            "240/240 - 20s - 83ms/step - accuracy: 0.9062 - loss: 0.2486 - val_accuracy: 0.8922 - val_loss: 0.2997\n",
            "Epoch 17/80\n",
            "240/240 - 22s - 90ms/step - accuracy: 0.9060 - loss: 0.2468 - val_accuracy: 0.8869 - val_loss: 0.3117\n",
            "Epoch 18/80\n",
            "240/240 - 17s - 71ms/step - accuracy: 0.9091 - loss: 0.2393 - val_accuracy: 0.8923 - val_loss: 0.3007\n",
            "Epoch 19/80\n",
            "240/240 - 20s - 85ms/step - accuracy: 0.9080 - loss: 0.2410 - val_accuracy: 0.8908 - val_loss: 0.3138\n",
            "Epoch 20/80\n",
            "240/240 - 21s - 86ms/step - accuracy: 0.9110 - loss: 0.2344 - val_accuracy: 0.8936 - val_loss: 0.3064\n",
            "Epoch 21/80\n",
            "240/240 - 20s - 85ms/step - accuracy: 0.9150 - loss: 0.2264 - val_accuracy: 0.8919 - val_loss: 0.3144\n",
            "Epoch 22/80\n",
            "240/240 - 20s - 84ms/step - accuracy: 0.9132 - loss: 0.2286 - val_accuracy: 0.8941 - val_loss: 0.3038\n",
            "Epoch 23/80\n",
            "240/240 - 21s - 86ms/step - accuracy: 0.9145 - loss: 0.2235 - val_accuracy: 0.8885 - val_loss: 0.3193\n",
            "Epoch 24/80\n",
            "240/240 - 21s - 87ms/step - accuracy: 0.9162 - loss: 0.2210 - val_accuracy: 0.8993 - val_loss: 0.3092\n",
            "Epoch 25/80\n",
            "240/240 - 20s - 85ms/step - accuracy: 0.9176 - loss: 0.2184 - val_accuracy: 0.8982 - val_loss: 0.2987\n",
            "Epoch 26/80\n",
            "240/240 - 21s - 88ms/step - accuracy: 0.9190 - loss: 0.2129 - val_accuracy: 0.8966 - val_loss: 0.2965\n",
            "Epoch 27/80\n",
            "240/240 - 20s - 83ms/step - accuracy: 0.9185 - loss: 0.2152 - val_accuracy: 0.8959 - val_loss: 0.3092\n",
            "Epoch 28/80\n",
            "240/240 - 21s - 89ms/step - accuracy: 0.9211 - loss: 0.2075 - val_accuracy: 0.8986 - val_loss: 0.3076\n",
            "Epoch 29/80\n",
            "240/240 - 19s - 81ms/step - accuracy: 0.9223 - loss: 0.2068 - val_accuracy: 0.8962 - val_loss: 0.3101\n",
            "Epoch 30/80\n",
            "240/240 - 22s - 92ms/step - accuracy: 0.9229 - loss: 0.2027 - val_accuracy: 0.8979 - val_loss: 0.3137\n",
            "Epoch 31/80\n",
            "240/240 - 19s - 79ms/step - accuracy: 0.9235 - loss: 0.2004 - val_accuracy: 0.8962 - val_loss: 0.3124\n",
            "Epoch 32/80\n",
            "240/240 - 20s - 85ms/step - accuracy: 0.9263 - loss: 0.1943 - val_accuracy: 0.8963 - val_loss: 0.3025\n",
            "Epoch 33/80\n",
            "240/240 - 20s - 85ms/step - accuracy: 0.9257 - loss: 0.1928 - val_accuracy: 0.8986 - val_loss: 0.3037\n",
            "Epoch 34/80\n",
            "240/240 - 20s - 85ms/step - accuracy: 0.9291 - loss: 0.1876 - val_accuracy: 0.9003 - val_loss: 0.2981\n",
            "Epoch 35/80\n",
            "240/240 - 20s - 84ms/step - accuracy: 0.9269 - loss: 0.1893 - val_accuracy: 0.8927 - val_loss: 0.3057\n",
            "Epoch 36/80\n",
            "240/240 - 21s - 86ms/step - accuracy: 0.9285 - loss: 0.1903 - val_accuracy: 0.8983 - val_loss: 0.3061\n",
            "Epoch 37/80\n",
            "240/240 - 20s - 85ms/step - accuracy: 0.9284 - loss: 0.1899 - val_accuracy: 0.8914 - val_loss: 0.3320\n",
            "Epoch 38/80\n",
            "240/240 - 17s - 69ms/step - accuracy: 0.9283 - loss: 0.1858 - val_accuracy: 0.9014 - val_loss: 0.3099\n",
            "Epoch 39/80\n",
            "240/240 - 21s - 88ms/step - accuracy: 0.9306 - loss: 0.1825 - val_accuracy: 0.8996 - val_loss: 0.3156\n",
            "Epoch 40/80\n",
            "240/240 - 20s - 83ms/step - accuracy: 0.9315 - loss: 0.1826 - val_accuracy: 0.8955 - val_loss: 0.3194\n",
            "Epoch 41/80\n",
            "240/240 - 20s - 85ms/step - accuracy: 0.9333 - loss: 0.1751 - val_accuracy: 0.8968 - val_loss: 0.3155\n",
            "Epoch 42/80\n",
            "240/240 - 21s - 89ms/step - accuracy: 0.9333 - loss: 0.1772 - val_accuracy: 0.9026 - val_loss: 0.3095\n",
            "Epoch 43/80\n",
            "240/240 - 20s - 82ms/step - accuracy: 0.9360 - loss: 0.1706 - val_accuracy: 0.8980 - val_loss: 0.3216\n",
            "Epoch 44/80\n",
            "240/240 - 20s - 85ms/step - accuracy: 0.9337 - loss: 0.1734 - val_accuracy: 0.8991 - val_loss: 0.3128\n",
            "Epoch 45/80\n",
            "240/240 - 20s - 85ms/step - accuracy: 0.9362 - loss: 0.1689 - val_accuracy: 0.8957 - val_loss: 0.3317\n",
            "Epoch 46/80\n",
            "240/240 - 21s - 85ms/step - accuracy: 0.9344 - loss: 0.1749 - val_accuracy: 0.8984 - val_loss: 0.3194\n",
            "Epoch 47/80\n",
            "240/240 - 20s - 85ms/step - accuracy: 0.9343 - loss: 0.1700 - val_accuracy: 0.9010 - val_loss: 0.3185\n",
            "Epoch 48/80\n",
            "240/240 - 21s - 86ms/step - accuracy: 0.9386 - loss: 0.1631 - val_accuracy: 0.8973 - val_loss: 0.3246\n",
            "Epoch 49/80\n",
            "240/240 - 17s - 70ms/step - accuracy: 0.9376 - loss: 0.1647 - val_accuracy: 0.9007 - val_loss: 0.3289\n",
            "Epoch 50/80\n",
            "240/240 - 21s - 89ms/step - accuracy: 0.9378 - loss: 0.1629 - val_accuracy: 0.8997 - val_loss: 0.3180\n",
            "Epoch 51/80\n",
            "240/240 - 20s - 83ms/step - accuracy: 0.9380 - loss: 0.1638 - val_accuracy: 0.9017 - val_loss: 0.3154\n",
            "Epoch 52/80\n",
            "240/240 - 20s - 84ms/step - accuracy: 0.9400 - loss: 0.1547 - val_accuracy: 0.8978 - val_loss: 0.3320\n",
            "Epoch 53/80\n",
            "240/240 - 21s - 86ms/step - accuracy: 0.9377 - loss: 0.1613 - val_accuracy: 0.9002 - val_loss: 0.3226\n",
            "Epoch 54/80\n",
            "240/240 - 20s - 84ms/step - accuracy: 0.9407 - loss: 0.1563 - val_accuracy: 0.9019 - val_loss: 0.3182\n",
            "Epoch 55/80\n",
            "240/240 - 20s - 85ms/step - accuracy: 0.9404 - loss: 0.1554 - val_accuracy: 0.8999 - val_loss: 0.3299\n",
            "Epoch 56/80\n",
            "240/240 - 21s - 87ms/step - accuracy: 0.9412 - loss: 0.1554 - val_accuracy: 0.9008 - val_loss: 0.3354\n",
            "Epoch 57/80\n",
            "240/240 - 21s - 85ms/step - accuracy: 0.9434 - loss: 0.1494 - val_accuracy: 0.8993 - val_loss: 0.3409\n",
            "Epoch 58/80\n",
            "240/240 - 20s - 85ms/step - accuracy: 0.9422 - loss: 0.1528 - val_accuracy: 0.9007 - val_loss: 0.3224\n",
            "Epoch 59/80\n",
            "240/240 - 20s - 85ms/step - accuracy: 0.9436 - loss: 0.1475 - val_accuracy: 0.9022 - val_loss: 0.3220\n",
            "Epoch 60/80\n",
            "240/240 - 17s - 71ms/step - accuracy: 0.9438 - loss: 0.1440 - val_accuracy: 0.9004 - val_loss: 0.3589\n",
            "Epoch 61/80\n",
            "240/240 - 22s - 91ms/step - accuracy: 0.9433 - loss: 0.1473 - val_accuracy: 0.9023 - val_loss: 0.3541\n",
            "Epoch 62/80\n",
            "240/240 - 19s - 79ms/step - accuracy: 0.9439 - loss: 0.1474 - val_accuracy: 0.8992 - val_loss: 0.3462\n",
            "Epoch 63/80\n",
            "240/240 - 21s - 86ms/step - accuracy: 0.9450 - loss: 0.1437 - val_accuracy: 0.8997 - val_loss: 0.3242\n",
            "Epoch 64/80\n",
            "240/240 - 19s - 79ms/step - accuracy: 0.9465 - loss: 0.1403 - val_accuracy: 0.9007 - val_loss: 0.3491\n",
            "Epoch 65/80\n",
            "240/240 - 18s - 77ms/step - accuracy: 0.9470 - loss: 0.1386 - val_accuracy: 0.8998 - val_loss: 0.3422\n",
            "Epoch 66/80\n",
            "240/240 - 22s - 91ms/step - accuracy: 0.9475 - loss: 0.1384 - val_accuracy: 0.9032 - val_loss: 0.3359\n",
            "Epoch 67/80\n",
            "240/240 - 19s - 80ms/step - accuracy: 0.9476 - loss: 0.1386 - val_accuracy: 0.9010 - val_loss: 0.3460\n",
            "Epoch 68/80\n",
            "240/240 - 21s - 86ms/step - accuracy: 0.9464 - loss: 0.1410 - val_accuracy: 0.8994 - val_loss: 0.3399\n",
            "Epoch 69/80\n",
            "240/240 - 21s - 85ms/step - accuracy: 0.9477 - loss: 0.1372 - val_accuracy: 0.9025 - val_loss: 0.3403\n",
            "Epoch 70/80\n",
            "240/240 - 20s - 85ms/step - accuracy: 0.9472 - loss: 0.1357 - val_accuracy: 0.8980 - val_loss: 0.3627\n",
            "Epoch 71/80\n",
            "240/240 - 21s - 86ms/step - accuracy: 0.9491 - loss: 0.1347 - val_accuracy: 0.9017 - val_loss: 0.3505\n",
            "Epoch 72/80\n",
            "240/240 - 21s - 86ms/step - accuracy: 0.9487 - loss: 0.1366 - val_accuracy: 0.9006 - val_loss: 0.3440\n",
            "Epoch 73/80\n",
            "240/240 - 20s - 84ms/step - accuracy: 0.9495 - loss: 0.1325 - val_accuracy: 0.9003 - val_loss: 0.3563\n",
            "Epoch 74/80\n",
            "240/240 - 21s - 86ms/step - accuracy: 0.9502 - loss: 0.1306 - val_accuracy: 0.9002 - val_loss: 0.3643\n",
            "Epoch 75/80\n",
            "240/240 - 21s - 85ms/step - accuracy: 0.9514 - loss: 0.1293 - val_accuracy: 0.8997 - val_loss: 0.3568\n",
            "Epoch 76/80\n",
            "240/240 - 20s - 85ms/step - accuracy: 0.9499 - loss: 0.1314 - val_accuracy: 0.8971 - val_loss: 0.3673\n",
            "Epoch 77/80\n",
            "240/240 - 21s - 86ms/step - accuracy: 0.9510 - loss: 0.1287 - val_accuracy: 0.8983 - val_loss: 0.3594\n",
            "Epoch 78/80\n",
            "240/240 - 20s - 84ms/step - accuracy: 0.9510 - loss: 0.1287 - val_accuracy: 0.9003 - val_loss: 0.3664\n",
            "Epoch 79/80\n",
            "240/240 - 21s - 87ms/step - accuracy: 0.9519 - loss: 0.1284 - val_accuracy: 0.9032 - val_loss: 0.3567\n",
            "Epoch 80/80\n",
            "240/240 - 20s - 85ms/step - accuracy: 0.9515 - loss: 0.1259 - val_accuracy: 0.9006 - val_loss: 0.3496\n"
          ]
        }
      ]
    },
    {
      "cell_type": "markdown",
      "source": [
        "#以圖形顯示訓練過程"
      ],
      "metadata": {
        "id": "RBv1x-QJ6OeT"
      }
    },
    {
      "cell_type": "code",
      "source": [
        "import matplotlib.pyplot as plt\n",
        "def show_train_history(train_history,train,validation):\n",
        "    plt.plot(train_history.history[train])\n",
        "    plt.plot(train_history.history[validation])\n",
        "    plt.title('Train History')\n",
        "    plt.ylabel(train)\n",
        "    plt.xlabel('Epoch')\n",
        "    plt.legend(['train', 'validation'], loc='upper left')\n",
        "    plt.show()"
      ],
      "metadata": {
        "id": "Qij4qVcp6M4a"
      },
      "execution_count": 444,
      "outputs": []
    },
    {
      "cell_type": "markdown",
      "source": [
        "##準確率、驗證準確率"
      ],
      "metadata": {
        "id": "wsvFh5OR6S3y"
      }
    },
    {
      "cell_type": "code",
      "source": [
        "show_train_history(train_history,'accuracy','val_accuracy')"
      ],
      "metadata": {
        "colab": {
          "base_uri": "https://localhost:8080/",
          "height": 472
        },
        "id": "-OXtZzZF6QMn",
        "outputId": "eba892d5-4850-433c-e9ff-c164f6cbb992"
      },
      "execution_count": 445,
      "outputs": [
        {
          "output_type": "display_data",
          "data": {
            "text/plain": [
              "<Figure size 640x480 with 1 Axes>"
            ],
            "image/png": "[encoded data removed]"
          },
          "metadata": {}
        }
      ]
    },
    {
      "cell_type": "markdown",
      "source": [
        "##損失值、驗證損失值"
      ],
      "metadata": {
        "id": "Rf2c3Am46Y0g"
      }
    },
    {
      "cell_type": "code",
      "source": [
        "show_train_history(train_history,'loss','val_loss')"
      ],
      "metadata": {
        "colab": {
          "base_uri": "https://localhost:8080/",
          "height": 472
        },
        "id": "HE_wk3Da6aqT",
        "outputId": "de46d857-e699-4756-fc66-3b10544ffac2"
      },
      "execution_count": 446,
      "outputs": [
        {
          "output_type": "display_data",
          "data": {
            "text/plain": [
              "<Figure size 640x480 with 1 Axes>"
            ],
            "image/png": "[encoded data removed]"
          },
          "metadata": {}
        }
      ]
    },
    {
      "cell_type": "markdown",
      "source": [
        "#評估模型準確率"
      ],
      "metadata": {
        "id": "rWWD-lyI6cEC"
      }
    },
    {
      "cell_type": "code",
      "source": [
        "scores = model.evaluate(x_Test_normalize, y_Test_OneHot)\n",
        "print()\n",
        "print('accuracy=',scores[1])"
      ],
      "metadata": {
        "colab": {
          "base_uri": "https://localhost:8080/"
        },
        "id": "nHRtjq0W6eS4",
        "outputId": "f7c368e6-7bbb-43df-f8d9-c26beed99bb4"
      },
      "execution_count": 447,
      "outputs": [
        {
          "output_type": "stream",
          "name": "stdout",
          "text": [
            "\u001b[1m313/313\u001b[0m \u001b[32m━━━━━━━━━━━━━━━━━━━━\u001b[0m\u001b[37m\u001b[0m \u001b[1m2s\u001b[0m 6ms/step - accuracy: 0.8961 - loss: 0.3994\n",
            "\n",
            "accuracy= 0.8963000178337097\n"
          ]
        }
      ]
    },
    {
      "cell_type": "markdown",
      "source": [
        "#進行預測"
      ],
      "metadata": {
        "id": "PcHZCecg6hHp"
      }
    },
    {
      "cell_type": "code",
      "source": [
        "prediction=model.predict(x_Test)"
      ],
      "metadata": {
        "colab": {
          "base_uri": "https://localhost:8080/"
        },
        "id": "MRjeo-uu6gl6",
        "outputId": "b8bca87e-13bd-4eb9-9b70-c24d4449a67e"
      },
      "execution_count": 448,
      "outputs": [
        {
          "output_type": "stream",
          "name": "stdout",
          "text": [
            "\u001b[1m313/313\u001b[0m \u001b[32m━━━━━━━━━━━━━━━━━━━━\u001b[0m\u001b[37m\u001b[0m \u001b[1m2s\u001b[0m 5ms/step\n"
          ]
        }
      ]
    },
    {
      "cell_type": "code",
      "source": [
        "prediction.shape"
      ],
      "metadata": {
        "colab": {
          "base_uri": "https://localhost:8080/"
        },
        "id": "oJPDR7Ay6nQU",
        "outputId": "17423ad9-3f75-459d-8c52-3238d0ea8e36"
      },
      "execution_count": 449,
      "outputs": [
        {
          "output_type": "execute_result",
          "data": {
            "text/plain": [
              "(10000, 10)"
            ]
          },
          "metadata": {},
          "execution_count": 449
        }
      ]
    },
    {
      "cell_type": "code",
      "source": [
        "prediction"
      ],
      "metadata": {
        "colab": {
          "base_uri": "https://localhost:8080/"
        },
        "id": "NZ9R4Smj6oe6",
        "outputId": "57b8297b-2518-4683-d872-4ee6500cc91f"
      },
      "execution_count": 450,
      "outputs": [
        {
          "output_type": "execute_result",
          "data": {
            "text/plain": [
              "array([[0.        , 0.        , 0.        , ..., 0.        , 0.        ,\n",
              "        0.99999994],\n",
              "       [0.        , 0.        , 0.99999994, ..., 0.        , 0.        ,\n",
              "        0.        ],\n",
              "       [0.        , 0.99999994, 0.        , ..., 0.        , 0.        ,\n",
              "        0.        ],\n",
              "       ...,\n",
              "       [0.        , 0.        , 0.        , ..., 0.        , 0.99999994,\n",
              "        0.        ],\n",
              "       [0.        , 0.99999994, 0.        , ..., 0.        , 0.        ,\n",
              "        0.        ],\n",
              "       [0.        , 0.        , 0.        , ..., 0.        , 0.        ,\n",
              "        0.        ]], dtype=float32)"
            ]
          },
          "metadata": {},
          "execution_count": 450
        }
      ]
    },
    {
      "cell_type": "code",
      "source": [
        "import matplotlib.pyplot as plt\n",
        "\n",
        "def plot_images_labels_prediction(images, labels, prediction, idx, num=10):\n",
        "    class_names = ['T-shirt/top(T恤)', 'Trouser(褲子)', 'Pullover(套衫)', 'Dress(裙子)', 'Coat(外套)',\n",
        "                   'Sandal(涼鞋)', 'Shirt(汗衫)', 'Sneaker(運動鞋)', 'Bag(包)', 'Ankle boot(踝靴)']\n",
        "    fig = plt.gcf()\n",
        "    fig.set_size_inches(12, 14)\n",
        "\n",
        "    if num > 25:\n",
        "        num = 25\n",
        "\n",
        "    for i in range(0, num):\n",
        "        ax = plt.subplot(5, 5, 1 + i)\n",
        "        ax.imshow(images[idx], cmap='binary')\n",
        "        label_name = class_names[labels[idx]]\n",
        "        predicted_name = class_names[np.argmax(prediction[idx])]\n",
        "        ax.set_title(f\"label={label_name}, \\npredict={predicted_name}\", fontsize=10)\n",
        "        ax.set_xticks([])\n",
        "        ax.set_yticks([])\n",
        "        idx += 1\n",
        "    plt.show()\n"
      ],
      "metadata": {
        "id": "3ZFTJ8Kd6qBC"
      },
      "execution_count": 451,
      "outputs": []
    },
    {
      "cell_type": "code",
      "source": [
        "plot_images_labels_prediction(x_test_image, y_test_label, prediction, idx=0, num=10)"
      ],
      "metadata": {
        "colab": {
          "base_uri": "https://localhost:8080/",
          "height": 455
        },
        "id": "G8j-V0796rjp",
        "outputId": "56d15389-7cc0-44d6-c69d-07906f8e86d6"
      },
      "execution_count": 463,
      "outputs": [
        {
          "output_type": "display_data",
          "data": {
            "text/plain": [
              "<Figure size 1200x1400 with 10 Axes>"
            ],
            "image/png": "[encoded data removed]"
          },
          "metadata": {}
        }
      ]
    },
    {
      "cell_type": "markdown",
      "source": [
        "#混淆矩陣"
      ],
      "metadata": {
        "id": "yN6qgNmc6s6Y"
      }
    },
    {
      "cell_type": "code",
      "source": [
        "import pandas as pd\n",
        "predicted_labels = np.argmax(prediction, axis=1)\n",
        "\n",
        "pd.crosstab(y_test_label, predicted_labels, rownames=['label'], colnames=['predict'])"
      ],
      "metadata": {
        "colab": {
          "base_uri": "https://localhost:8080/",
          "height": 394
        },
        "id": "aXdaFSbh6teR",
        "outputId": "5a582af2-f9f8-4bf3-8c8a-e7b63305172d"
      },
      "execution_count": 453,
      "outputs": [
        {
          "output_type": "execute_result",
          "data": {
            "text/plain": [
              "predict    0    1    2    3    4    5    6    7    8    9\n",
              "label                                                    \n",
              "0        910    7    7    8    6    1   60    0    1    0\n",
              "1          1  991    0    4    2    0    1    0    1    0\n",
              "2         34    4  774    7  133    1   46    0    1    0\n",
              "3         32   23    7  863   53    0   16    0    6    0\n",
              "4          4    1   64   18  891    0   21    0    1    0\n",
              "5          0    0    0    0    0  978    0    7    2   13\n",
              "6        203    4   75   19  166    0  528    0    5    0\n",
              "7          0    0    0    0    0   33    0  921    0   46\n",
              "8         13    1    0    3    2    2    5    2  972    0\n",
              "9          1    0    0    0    0    6    0   14    0  979"
            ],
            "text/html": [
              "\n",
              "  <div id=\"df-426e1ef7-4950-4aa8-8fd2-85411b1e5d8c\" class=\"colab-df-container\">\n",
              "    <div>\n",
              "<style scoped>\n",
              "    .dataframe tbody tr th:only-of-type {\n",
              "        vertical-align: middle;\n",
              "    }\n",
              "\n",
              "    .dataframe tbody tr th {\n",
              "        vertical-align: top;\n",
              "    }\n",
              "\n",
              "    .dataframe thead th {\n",
              "        text-align: right;\n",
              "    }\n",
              "</style>\n",
              "<table border=\"1\" class=\"dataframe\">\n",
              "  <thead>\n",
              "    <tr style=\"text-align: right;\">\n",
              "      <th>predict</th>\n",
              "      <th>0</th>\n",
              "      <th>1</th>\n",
              "      <th>2</th>\n",
              "      <th>3</th>\n",
              "      <th>4</th>\n",
              "      <th>5</th>\n",
              "      <th>6</th>\n",
              "      <th>7</th>\n",
              "      <th>8</th>\n",
              "      <th>9</th>\n",
              "    </tr>\n",
              "    <tr>\n",
              "      <th>label</th>\n",
              "      <th></th>\n",
              "      <th></th>\n",
              "      <th></th>\n",
              "      <th></th>\n",
              "      <th></th>\n",
              "      <th></th>\n",
              "      <th></th>\n",
              "      <th></th>\n",
              "      <th></th>\n",
              "      <th></th>\n",
              "    </tr>\n",
              "  </thead>\n",
              "  <tbody>\n",
              "    <tr>\n",
              "      <th>0</th>\n",
              "      <td>910</td>\n",
              "      <td>7</td>\n",
              "      <td>7</td>\n",
              "      <td>8</td>\n",
              "      <td>6</td>\n",
              "      <td>1</td>\n",
              "      <td>60</td>\n",
              "      <td>0</td>\n",
              "      <td>1</td>\n",
              "      <td>0</td>\n",
              "    </tr>\n",
              "    <tr>\n",
              "      <th>1</th>\n",
              "      <td>1</td>\n",
              "      <td>991</td>\n",
              "      <td>0</td>\n",
              "      <td>4</td>\n",
              "      <td>2</td>\n",
              "      <td>0</td>\n",
              "      <td>1</td>\n",
              "      <td>0</td>\n",
              "      <td>1</td>\n",
              "      <td>0</td>\n",
              "    </tr>\n",
              "    <tr>\n",
              "      <th>2</th>\n",
              "      <td>34</td>\n",
              "      <td>4</td>\n",
              "      <td>774</td>\n",
              "      <td>7</td>\n",
              "      <td>133</td>\n",
              "      <td>1</td>\n",
              "      <td>46</td>\n",
              "      <td>0</td>\n",
              "      <td>1</td>\n",
              "      <td>0</td>\n",
              "    </tr>\n",
              "    <tr>\n",
              "      <th>3</th>\n",
              "      <td>32</td>\n",
              "      <td>23</td>\n",
              "      <td>7</td>\n",
              "      <td>863</td>\n",
              "      <td>53</td>\n",
              "      <td>0</td>\n",
              "      <td>16</td>\n",
              "      <td>0</td>\n",
              "      <td>6</td>\n",
              "      <td>0</td>\n",
              "    </tr>\n",
              "    <tr>\n",
              "      <th>4</th>\n",
              "      <td>4</td>\n",
              "      <td>1</td>\n",
              "      <td>64</td>\n",
              "      <td>18</td>\n",
              "      <td>891</td>\n",
              "      <td>0</td>\n",
              "      <td>21</td>\n",
              "      <td>0</td>\n",
              "      <td>1</td>\n",
              "      <td>0</td>\n",
              "    </tr>\n",
              "    <tr>\n",
              "      <th>5</th>\n",
              "      <td>0</td>\n",
              "      <td>0</td>\n",
              "      <td>0</td>\n",
              "      <td>0</td>\n",
              "      <td>0</td>\n",
              "      <td>978</td>\n",
              "      <td>0</td>\n",
              "      <td>7</td>\n",
              "      <td>2</td>\n",
              "      <td>13</td>\n",
              "    </tr>\n",
              "    <tr>\n",
              "      <th>6</th>\n",
              "      <td>203</td>\n",
              "      <td>4</td>\n",
              "      <td>75</td>\n",
              "      <td>19</td>\n",
              "      <td>166</td>\n",
              "      <td>0</td>\n",
              "      <td>528</td>\n",
              "      <td>0</td>\n",
              "      <td>5</td>\n",
              "      <td>0</td>\n",
              "    </tr>\n",
              "    <tr>\n",
              "      <th>7</th>\n",
              "      <td>0</td>\n",
              "      <td>0</td>\n",
              "      <td>0</td>\n",
              "      <td>0</td>\n",
              "      <td>0</td>\n",
              "      <td>33</td>\n",
              "      <td>0</td>\n",
              "      <td>921</td>\n",
              "      <td>0</td>\n",
              "      <td>46</td>\n",
              "    </tr>\n",
              "    <tr>\n",
              "      <th>8</th>\n",
              "      <td>13</td>\n",
              "      <td>1</td>\n",
              "      <td>0</td>\n",
              "      <td>3</td>\n",
              "      <td>2</td>\n",
              "      <td>2</td>\n",
              "      <td>5</td>\n",
              "      <td>2</td>\n",
              "      <td>972</td>\n",
              "      <td>0</td>\n",
              "    </tr>\n",
              "    <tr>\n",
              "      <th>9</th>\n",
              "      <td>1</td>\n",
              "      <td>0</td>\n",
              "      <td>0</td>\n",
              "      <td>0</td>\n",
              "      <td>0</td>\n",
              "      <td>6</td>\n",
              "      <td>0</td>\n",
              "      <td>14</td>\n",
              "      <td>0</td>\n",
              "      <td>979</td>\n",
              "    </tr>\n",
              "  </tbody>\n",
              "</table>\n",
              "</div>\n",
              "    <div class=\"colab-df-buttons\">\n",
              "\n",
              "  <div class=\"colab-df-container\">\n",
              "    <button class=\"colab-df-convert\" onclick=\"convertToInteractive('df-426e1ef7-4950-4aa8-8fd2-85411b1e5d8c')\"\n",
              "            title=\"Convert this dataframe to an interactive table.\"\n",
              "            style=\"display:none;\">\n",
              "\n",
              "  <svg xmlns=\"http://www.w3.org/2000/svg\" height=\"24px\" viewBox=\"0 -960 960 960\">\n",
              "    <path d=\"M120-120v-720h720v720H120Zm60-500h600v-160H180v160Zm220 220h160v-160H400v160Zm0 220h160v-160H400v160ZM180-400h160v-160H180v160Zm440 0h160v-160H620v160ZM180-180h160v-160H180v160Zm440 0h160v-160H620v160Z\"/>\n",
              "  </svg>\n",
              "    </button>\n",
              "\n",
              "  <style>\n",
              "    .colab-df-container {\n",
              "      display:flex;\n",
              "      gap: 12px;\n",
              "    }\n",
              "\n",
              "    .colab-df-convert {\n",
              "      background-color: #E8F0FE;\n",
              "      border: none;\n",
              "      border-radius: 50%;\n",
              "      cursor: pointer;\n",
              "      display: none;\n",
              "      fill: #1967D2;\n",
              "      height: 32px;\n",
              "      padding: 0 0 0 0;\n",
              "      width: 32px;\n",
              "    }\n",
              "\n",
              "    .colab-df-convert:hover {\n",
              "      background-color: #E2EBFA;\n",
              "      box-shadow: 0px 1px 2px rgba(60, 64, 67, 0.3), 0px 1px 3px 1px rgba(60, 64, 67, 0.15);\n",
              "      fill: #174EA6;\n",
              "    }\n",
              "\n",
              "    .colab-df-buttons div {\n",
              "      margin-bottom: 4px;\n",
              "    }\n",
              "\n",
              "    [theme=dark] .colab-df-convert {\n",
              "      background-color: #3B4455;\n",
              "      fill: #D2E3FC;\n",
              "    }\n",
              "\n",
              "    [theme=dark] .colab-df-convert:hover {\n",
              "      background-color: #434B5C;\n",
              "      box-shadow: 0px 1px 3px 1px rgba(0, 0, 0, 0.15);\n",
              "      filter: drop-shadow(0px 1px 2px rgba(0, 0, 0, 0.3));\n",
              "      fill: #FFFFFF;\n",
              "    }\n",
              "  </style>\n",
              "\n",
              "    <script>\n",
              "      const buttonEl =\n",
              "        document.querySelector('#df-426e1ef7-4950-4aa8-8fd2-85411b1e5d8c button.colab-df-convert');\n",
              "      buttonEl.style.display =\n",
              "        google.colab.kernel.accessAllowed ? 'block' : 'none';\n",
              "\n",
              "      async function convertToInteractive(key) {\n",
              "        const element = document.querySelector('#df-426e1ef7-4950-4aa8-8fd2-85411b1e5d8c');\n",
              "        const dataTable =\n",
              "          await google.colab.kernel.invokeFunction('convertToInteractive',\n",
              "                                                    [key], {});\n",
              "        if (!dataTable) return;\n",
              "\n",
              "        const docLinkHtml = 'Like what you see? Visit the ' +\n",
              "          '<a target=\"_blank\" href=https://colab.research.google.com/notebooks/data_table.ipynb>data table notebook</a>'\n",
              "          + ' to learn more about interactive tables.';\n",
              "        element.innerHTML = '';\n",
              "        dataTable['output_type'] = 'display_data';\n",
              "        await google.colab.output.renderOutput(dataTable, element);\n",
              "        const docLink = document.createElement('div');\n",
              "        docLink.innerHTML = docLinkHtml;\n",
              "        element.appendChild(docLink);\n",
              "      }\n",
              "    </script>\n",
              "  </div>\n",
              "\n",
              "\n",
              "<div id=\"df-4d9ce208-5f33-4e00-bd18-f97038da9735\">\n",
              "  <button class=\"colab-df-quickchart\" onclick=\"quickchart('df-4d9ce208-5f33-4e00-bd18-f97038da9735')\"\n",
              "            title=\"Suggest charts\"\n",
              "            style=\"display:none;\">\n",
              "\n",
              "<svg xmlns=\"http://www.w3.org/2000/svg\" height=\"24px\"viewBox=\"0 0 24 24\"\n",
              "     width=\"24px\">\n",
              "    <g>\n",
              "        <path d=\"M19 3H5c-1.1 0-2 .9-2 2v14c0 1.1.9 2 2 2h14c1.1 0 2-.9 2-2V5c0-1.1-.9-2-2-2zM9 17H7v-7h2v7zm4 0h-2V7h2v10zm4 0h-2v-4h2v4z\"/>\n",
              "    </g>\n",
              "</svg>\n",
              "  </button>\n",
              "\n",
              "<style>\n",
              "  .colab-df-quickchart {\n",
              "      --bg-color: #E8F0FE;\n",
              "      --fill-color: #1967D2;\n",
              "      --hover-bg-color: #E2EBFA;\n",
              "      --hover-fill-color: #174EA6;\n",
              "      --disabled-fill-color: #AAA;\n",
              "      --disabled-bg-color: #DDD;\n",
              "  }\n",
              "\n",
              "  [theme=dark] .colab-df-quickchart {\n",
              "      --bg-color: #3B4455;\n",
              "      --fill-color: #D2E3FC;\n",
              "      --hover-bg-color: #434B5C;\n",
              "      --hover-fill-color: #FFFFFF;\n",
              "      --disabled-bg-color: #3B4455;\n",
              "      --disabled-fill-color: #666;\n",
              "  }\n",
              "\n",
              "  .colab-df-quickchart {\n",
              "    background-color: var(--bg-color);\n",
              "    border: none;\n",
              "    border-radius: 50%;\n",
              "    cursor: pointer;\n",
              "    display: none;\n",
              "    fill: var(--fill-color);\n",
              "    height: 32px;\n",
              "    padding: 0;\n",
              "    width: 32px;\n",
              "  }\n",
              "\n",
              "  .colab-df-quickchart:hover {\n",
              "    background-color: var(--hover-bg-color);\n",
              "    box-shadow: 0 1px 2px rgba(60, 64, 67, 0.3), 0 1px 3px 1px rgba(60, 64, 67, 0.15);\n",
              "    fill: var(--button-hover-fill-color);\n",
              "  }\n",
              "\n",
              "  .colab-df-quickchart-complete:disabled,\n",
              "  .colab-df-quickchart-complete:disabled:hover {\n",
              "    background-color: var(--disabled-bg-color);\n",
              "    fill: var(--disabled-fill-color);\n",
              "    box-shadow: none;\n",
              "  }\n",
              "\n",
              "  .colab-df-spinner {\n",
              "    border: 2px solid var(--fill-color);\n",
              "    border-color: transparent;\n",
              "    border-bottom-color: var(--fill-color);\n",
              "    animation:\n",
              "      spin 1s steps(1) infinite;\n",
              "  }\n",
              "\n",
              "  @keyframes spin {\n",
              "    0% {\n",
              "      border-color: transparent;\n",
              "      border-bottom-color: var(--fill-color);\n",
              "      border-left-color: var(--fill-color);\n",
              "    }\n",
              "    20% {\n",
              "      border-color: transparent;\n",
              "      border-left-color: var(--fill-color);\n",
              "      border-top-color: var(--fill-color);\n",
              "    }\n",
              "    30% {\n",
              "      border-color: transparent;\n",
              "      border-left-color: var(--fill-color);\n",
              "      border-top-color: var(--fill-color);\n",
              "      border-right-color: var(--fill-color);\n",
              "    }\n",
              "    40% {\n",
              "      border-color: transparent;\n",
              "      border-right-color: var(--fill-color);\n",
              "      border-top-color: var(--fill-color);\n",
              "    }\n",
              "    60% {\n",
              "      border-color: transparent;\n",
              "      border-right-color: var(--fill-color);\n",
              "    }\n",
              "    80% {\n",
              "      border-color: transparent;\n",
              "      border-right-color: var(--fill-color);\n",
              "      border-bottom-color: var(--fill-color);\n",
              "    }\n",
              "    90% {\n",
              "      border-color: transparent;\n",
              "      border-bottom-color: var(--fill-color);\n",
              "    }\n",
              "  }\n",
              "</style>\n",
              "\n",
              "  <script>\n",
              "    async function quickchart(key) {\n",
              "      const quickchartButtonEl =\n",
              "        document.querySelector('#' + key + ' button');\n",
              "      quickchartButtonEl.disabled = true;  // To prevent multiple clicks.\n",
              "      quickchartButtonEl.classList.add('colab-df-spinner');\n",
              "      try {\n",
              "        const charts = await google.colab.kernel.invokeFunction(\n",
              "            'suggestCharts', [key], {});\n",
              "      } catch (error) {\n",
              "        console.error('Error during call to suggestCharts:', error);\n",
              "      }\n",
              "      quickchartButtonEl.classList.remove('colab-df-spinner');\n",
              "      quickchartButtonEl.classList.add('colab-df-quickchart-complete');\n",
              "    }\n",
              "    (() => {\n",
              "      let quickchartButtonEl =\n",
              "        document.querySelector('#df-4d9ce208-5f33-4e00-bd18-f97038da9735 button');\n",
              "      quickchartButtonEl.style.display =\n",
              "        google.colab.kernel.accessAllowed ? 'block' : 'none';\n",
              "    })();\n",
              "  </script>\n",
              "</div>\n",
              "\n",
              "    </div>\n",
              "  </div>\n"
            ],
            "application/vnd.google.colaboratory.intrinsic+json": {
              "type": "dataframe",
              "summary": "{\n  \"name\": \"pd\",\n  \"rows\": 10,\n  \"fields\": [\n    {\n      \"column\": \"label\",\n      \"properties\": {\n        \"dtype\": \"uint8\",\n        \"num_unique_values\": 10,\n        \"samples\": [\n          8,\n          1,\n          5\n        ],\n        \"semantic_type\": \"\",\n        \"description\": \"\"\n      }\n    },\n    {\n      \"column\": 0,\n      \"properties\": {\n        \"dtype\": \"number\",\n        \"std\": 284,\n        \"min\": 0,\n        \"max\": 910,\n        \"num_unique_values\": 8,\n        \"samples\": [\n          1,\n          0,\n          910\n        ],\n        \"semantic_type\": \"\",\n        \"description\": \"\"\n      }\n    },\n    {\n      \"column\": 1,\n      \"properties\": {\n        \"dtype\": \"number\",\n        \"std\": 312,\n        \"min\": 0,\n        \"max\": 991,\n        \"num_unique_values\": 6,\n        \"samples\": [\n          7,\n          991,\n          0\n        ],\n        \"semantic_type\": \"\",\n        \"description\": \"\"\n      }\n    },\n    {\n      \"column\": 2,\n      \"properties\": {\n        \"dtype\": \"number\",\n        \"std\": 241,\n        \"min\": 0,\n        \"max\": 774,\n        \"num_unique_values\": 5,\n        \"samples\": [\n          0,\n          75,\n          774\n        ],\n        \"semantic_type\": \"\",\n        \"description\": \"\"\n      }\n    },\n    {\n      \"column\": 3,\n      \"properties\": {\n        \"dtype\": \"number\",\n        \"std\": 270,\n        \"min\": 0,\n        \"max\": 863,\n        \"num_unique_values\": 8,\n        \"samples\": [\n          4,\n          0,\n          8\n        ],\n        \"semantic_type\": \"\",\n        \"description\": \"\"\n      }\n    },\n    {\n      \"column\": 4,\n      \"properties\": {\n        \"dtype\": \"number\",\n        \"std\": 275,\n        \"min\": 0,\n        \"max\": 891,\n        \"num_unique_values\": 7,\n        \"samples\": [\n          6,\n          2,\n          0\n        ],\n        \"semantic_type\": \"\",\n        \"description\": \"\"\n      }\n    },\n    {\n      \"column\": 5,\n      \"properties\": {\n        \"dtype\": \"number\",\n        \"std\": 307,\n        \"min\": 0,\n        \"max\": 978,\n        \"num_unique_values\": 6,\n        \"samples\": [\n          1,\n          0,\n          6\n        ],\n        \"semantic_type\": \"\",\n        \"description\": \"\"\n      }\n    },\n    {\n      \"column\": 6,\n      \"properties\": {\n        \"dtype\": \"number\",\n        \"std\": 163,\n        \"min\": 0,\n        \"max\": 528,\n        \"num_unique_values\": 8,\n        \"samples\": [\n          1,\n          0,\n          60\n        ],\n        \"semantic_type\": \"\",\n        \"description\": \"\"\n      }\n    },\n    {\n      \"column\": 7,\n      \"properties\": {\n        \"dtype\": \"number\",\n        \"std\": 290,\n        \"min\": 0,\n        \"max\": 921,\n        \"num_unique_values\": 5,\n        \"samples\": [\n          7,\n          14,\n          921\n        ],\n        \"semantic_type\": \"\",\n        \"description\": \"\"\n      }\n    },\n    {\n      \"column\": 8,\n      \"properties\": {\n        \"dtype\": \"number\",\n        \"std\": 306,\n        \"min\": 0,\n        \"max\": 972,\n        \"num_unique_values\": 6,\n        \"samples\": [\n          1,\n          6,\n          972\n        ],\n        \"semantic_type\": \"\",\n        \"description\": \"\"\n      }\n    },\n    {\n      \"column\": 9,\n      \"properties\": {\n        \"dtype\": \"number\",\n        \"std\": 307,\n        \"min\": 0,\n        \"max\": 979,\n        \"num_unique_values\": 4,\n        \"samples\": [\n          13,\n          979,\n          0\n        ],\n        \"semantic_type\": \"\",\n        \"description\": \"\"\n      }\n    }\n  ]\n}"
            }
          },
          "metadata": {},
          "execution_count": 453
        }
      ]
    },
    {
      "cell_type": "code",
      "source": [
        "df = pd.DataFrame({'label':y_test_label, 'predict':predicted_labels})\n",
        "df[:15]"
      ],
      "metadata": {
        "colab": {
          "base_uri": "https://localhost:8080/",
          "height": 520
        },
        "id": "ns6L2mzs6vpX",
        "outputId": "0bb627ac-dfa5-46df-c613-8dcc478e133c"
      },
      "execution_count": 454,
      "outputs": [
        {
          "output_type": "execute_result",
          "data": {
            "text/plain": [
              "    label  predict\n",
              "0       9        9\n",
              "1       2        2\n",
              "2       1        1\n",
              "3       1        1\n",
              "4       6        0\n",
              "5       1        1\n",
              "6       4        4\n",
              "7       6        6\n",
              "8       5        5\n",
              "9       7        7\n",
              "10      4        4\n",
              "11      5        5\n",
              "12      7        5\n",
              "13      3        3\n",
              "14      4        4"
            ],
            "text/html": [
              "\n",
              "  <div id=\"df-ba8986db-b318-4b06-8bf2-9674d8a94653\" class=\"colab-df-container\">\n",
              "    <div>\n",
              "<style scoped>\n",
              "    .dataframe tbody tr th:only-of-type {\n",
              "        vertical-align: middle;\n",
              "    }\n",
              "\n",
              "    .dataframe tbody tr th {\n",
              "        vertical-align: top;\n",
              "    }\n",
              "\n",
              "    .dataframe thead th {\n",
              "        text-align: right;\n",
              "    }\n",
              "</style>\n",
              "<table border=\"1\" class=\"dataframe\">\n",
              "  <thead>\n",
              "    <tr style=\"text-align: right;\">\n",
              "      <th></th>\n",
              "      <th>label</th>\n",
              "      <th>predict</th>\n",
              "    </tr>\n",
              "  </thead>\n",
              "  <tbody>\n",
              "    <tr>\n",
              "      <th>0</th>\n",
              "      <td>9</td>\n",
              "      <td>9</td>\n",
              "    </tr>\n",
              "    <tr>\n",
              "      <th>1</th>\n",
              "      <td>2</td>\n",
              "      <td>2</td>\n",
              "    </tr>\n",
              "    <tr>\n",
              "      <th>2</th>\n",
              "      <td>1</td>\n",
              "      <td>1</td>\n",
              "    </tr>\n",
              "    <tr>\n",
              "      <th>3</th>\n",
              "      <td>1</td>\n",
              "      <td>1</td>\n",
              "    </tr>\n",
              "    <tr>\n",
              "      <th>4</th>\n",
              "      <td>6</td>\n",
              "      <td>0</td>\n",
              "    </tr>\n",
              "    <tr>\n",
              "      <th>5</th>\n",
              "      <td>1</td>\n",
              "      <td>1</td>\n",
              "    </tr>\n",
              "    <tr>\n",
              "      <th>6</th>\n",
              "      <td>4</td>\n",
              "      <td>4</td>\n",
              "    </tr>\n",
              "    <tr>\n",
              "      <th>7</th>\n",
              "      <td>6</td>\n",
              "      <td>6</td>\n",
              "    </tr>\n",
              "    <tr>\n",
              "      <th>8</th>\n",
              "      <td>5</td>\n",
              "      <td>5</td>\n",
              "    </tr>\n",
              "    <tr>\n",
              "      <th>9</th>\n",
              "      <td>7</td>\n",
              "      <td>7</td>\n",
              "    </tr>\n",
              "    <tr>\n",
              "      <th>10</th>\n",
              "      <td>4</td>\n",
              "      <td>4</td>\n",
              "    </tr>\n",
              "    <tr>\n",
              "      <th>11</th>\n",
              "      <td>5</td>\n",
              "      <td>5</td>\n",
              "    </tr>\n",
              "    <tr>\n",
              "      <th>12</th>\n",
              "      <td>7</td>\n",
              "      <td>5</td>\n",
              "    </tr>\n",
              "    <tr>\n",
              "      <th>13</th>\n",
              "      <td>3</td>\n",
              "      <td>3</td>\n",
              "    </tr>\n",
              "    <tr>\n",
              "      <th>14</th>\n",
              "      <td>4</td>\n",
              "      <td>4</td>\n",
              "    </tr>\n",
              "  </tbody>\n",
              "</table>\n",
              "</div>\n",
              "    <div class=\"colab-df-buttons\">\n",
              "\n",
              "  <div class=\"colab-df-container\">\n",
              "    <button class=\"colab-df-convert\" onclick=\"convertToInteractive('df-ba8986db-b318-4b06-8bf2-9674d8a94653')\"\n",
              "            title=\"Convert this dataframe to an interactive table.\"\n",
              "            style=\"display:none;\">\n",
              "\n",
              "  <svg xmlns=\"http://www.w3.org/2000/svg\" height=\"24px\" viewBox=\"0 -960 960 960\">\n",
              "    <path d=\"M120-120v-720h720v720H120Zm60-500h600v-160H180v160Zm220 220h160v-160H400v160Zm0 220h160v-160H400v160ZM180-400h160v-160H180v160Zm440 0h160v-160H620v160ZM180-180h160v-160H180v160Zm440 0h160v-160H620v160Z\"/>\n",
              "  </svg>\n",
              "    </button>\n",
              "\n",
              "  <style>\n",
              "    .colab-df-container {\n",
              "      display:flex;\n",
              "      gap: 12px;\n",
              "    }\n",
              "\n",
              "    .colab-df-convert {\n",
              "      background-color: #E8F0FE;\n",
              "      border: none;\n",
              "      border-radius: 50%;\n",
              "      cursor: pointer;\n",
              "      display: none;\n",
              "      fill: #1967D2;\n",
              "      height: 32px;\n",
              "      padding: 0 0 0 0;\n",
              "      width: 32px;\n",
              "    }\n",
              "\n",
              "    .colab-df-convert:hover {\n",
              "      background-color: #E2EBFA;\n",
              "      box-shadow: 0px 1px 2px rgba(60, 64, 67, 0.3), 0px 1px 3px 1px rgba(60, 64, 67, 0.15);\n",
              "      fill: #174EA6;\n",
              "    }\n",
              "\n",
              "    .colab-df-buttons div {\n",
              "      margin-bottom: 4px;\n",
              "    }\n",
              "\n",
              "    [theme=dark] .colab-df-convert {\n",
              "      background-color: #3B4455;\n",
              "      fill: #D2E3FC;\n",
              "    }\n",
              "\n",
              "    [theme=dark] .colab-df-convert:hover {\n",
              "      background-color: #434B5C;\n",
              "      box-shadow: 0px 1px 3px 1px rgba(0, 0, 0, 0.15);\n",
              "      filter: drop-shadow(0px 1px 2px rgba(0, 0, 0, 0.3));\n",
              "      fill: #FFFFFF;\n",
              "    }\n",
              "  </style>\n",
              "\n",
              "    <script>\n",
              "      const buttonEl =\n",
              "        document.querySelector('#df-ba8986db-b318-4b06-8bf2-9674d8a94653 button.colab-df-convert');\n",
              "      buttonEl.style.display =\n",
              "        google.colab.kernel.accessAllowed ? 'block' : 'none';\n",
              "\n",
              "      async function convertToInteractive(key) {\n",
              "        const element = document.querySelector('#df-ba8986db-b318-4b06-8bf2-9674d8a94653');\n",
              "        const dataTable =\n",
              "          await google.colab.kernel.invokeFunction('convertToInteractive',\n",
              "                                                    [key], {});\n",
              "        if (!dataTable) return;\n",
              "\n",
              "        const docLinkHtml = 'Like what you see? Visit the ' +\n",
              "          '<a target=\"_blank\" href=https://colab.research.google.com/notebooks/data_table.ipynb>data table notebook</a>'\n",
              "          + ' to learn more about interactive tables.';\n",
              "        element.innerHTML = '';\n",
              "        dataTable['output_type'] = 'display_data';\n",
              "        await google.colab.output.renderOutput(dataTable, element);\n",
              "        const docLink = document.createElement('div');\n",
              "        docLink.innerHTML = docLinkHtml;\n",
              "        element.appendChild(docLink);\n",
              "      }\n",
              "    </script>\n",
              "  </div>\n",
              "\n",
              "\n",
              "<div id=\"df-041e60f2-4501-4c9e-a007-b386776bb3aa\">\n",
              "  <button class=\"colab-df-quickchart\" onclick=\"quickchart('df-041e60f2-4501-4c9e-a007-b386776bb3aa')\"\n",
              "            title=\"Suggest charts\"\n",
              "            style=\"display:none;\">\n",
              "\n",
              "<svg xmlns=\"http://www.w3.org/2000/svg\" height=\"24px\"viewBox=\"0 0 24 24\"\n",
              "     width=\"24px\">\n",
              "    <g>\n",
              "        <path d=\"M19 3H5c-1.1 0-2 .9-2 2v14c0 1.1.9 2 2 2h14c1.1 0 2-.9 2-2V5c0-1.1-.9-2-2-2zM9 17H7v-7h2v7zm4 0h-2V7h2v10zm4 0h-2v-4h2v4z\"/>\n",
              "    </g>\n",
              "</svg>\n",
              "  </button>\n",
              "\n",
              "<style>\n",
              "  .colab-df-quickchart {\n",
              "      --bg-color: #E8F0FE;\n",
              "      --fill-color: #1967D2;\n",
              "      --hover-bg-color: #E2EBFA;\n",
              "      --hover-fill-color: #174EA6;\n",
              "      --disabled-fill-color: #AAA;\n",
              "      --disabled-bg-color: #DDD;\n",
              "  }\n",
              "\n",
              "  [theme=dark] .colab-df-quickchart {\n",
              "      --bg-color: #3B4455;\n",
              "      --fill-color: #D2E3FC;\n",
              "      --hover-bg-color: #434B5C;\n",
              "      --hover-fill-color: #FFFFFF;\n",
              "      --disabled-bg-color: #3B4455;\n",
              "      --disabled-fill-color: #666;\n",
              "  }\n",
              "\n",
              "  .colab-df-quickchart {\n",
              "    background-color: var(--bg-color);\n",
              "    border: none;\n",
              "    border-radius: 50%;\n",
              "    cursor: pointer;\n",
              "    display: none;\n",
              "    fill: var(--fill-color);\n",
              "    height: 32px;\n",
              "    padding: 0;\n",
              "    width: 32px;\n",
              "  }\n",
              "\n",
              "  .colab-df-quickchart:hover {\n",
              "    background-color: var(--hover-bg-color);\n",
              "    box-shadow: 0 1px 2px rgba(60, 64, 67, 0.3), 0 1px 3px 1px rgba(60, 64, 67, 0.15);\n",
              "    fill: var(--button-hover-fill-color);\n",
              "  }\n",
              "\n",
              "  .colab-df-quickchart-complete:disabled,\n",
              "  .colab-df-quickchart-complete:disabled:hover {\n",
              "    background-color: var(--disabled-bg-color);\n",
              "    fill: var(--disabled-fill-color);\n",
              "    box-shadow: none;\n",
              "  }\n",
              "\n",
              "  .colab-df-spinner {\n",
              "    border: 2px solid var(--fill-color);\n",
              "    border-color: transparent;\n",
              "    border-bottom-color: var(--fill-color);\n",
              "    animation:\n",
              "      spin 1s steps(1) infinite;\n",
              "  }\n",
              "\n",
              "  @keyframes spin {\n",
              "    0% {\n",
              "      border-color: transparent;\n",
              "      border-bottom-color: var(--fill-color);\n",
              "      border-left-color: var(--fill-color);\n",
              "    }\n",
              "    20% {\n",
              "      border-color: transparent;\n",
              "      border-left-color: var(--fill-color);\n",
              "      border-top-color: var(--fill-color);\n",
              "    }\n",
              "    30% {\n",
              "      border-color: transparent;\n",
              "      border-left-color: var(--fill-color);\n",
              "      border-top-color: var(--fill-color);\n",
              "      border-right-color: var(--fill-color);\n",
              "    }\n",
              "    40% {\n",
              "      border-color: transparent;\n",
              "      border-right-color: var(--fill-color);\n",
              "      border-top-color: var(--fill-color);\n",
              "    }\n",
              "    60% {\n",
              "      border-color: transparent;\n",
              "      border-right-color: var(--fill-color);\n",
              "    }\n",
              "    80% {\n",
              "      border-color: transparent;\n",
              "      border-right-color: var(--fill-color);\n",
              "      border-bottom-color: var(--fill-color);\n",
              "    }\n",
              "    90% {\n",
              "      border-color: transparent;\n",
              "      border-bottom-color: var(--fill-color);\n",
              "    }\n",
              "  }\n",
              "</style>\n",
              "\n",
              "  <script>\n",
              "    async function quickchart(key) {\n",
              "      const quickchartButtonEl =\n",
              "        document.querySelector('#' + key + ' button');\n",
              "      quickchartButtonEl.disabled = true;  // To prevent multiple clicks.\n",
              "      quickchartButtonEl.classList.add('colab-df-spinner');\n",
              "      try {\n",
              "        const charts = await google.colab.kernel.invokeFunction(\n",
              "            'suggestCharts', [key], {});\n",
              "      } catch (error) {\n",
              "        console.error('Error during call to suggestCharts:', error);\n",
              "      }\n",
              "      quickchartButtonEl.classList.remove('colab-df-spinner');\n",
              "      quickchartButtonEl.classList.add('colab-df-quickchart-complete');\n",
              "    }\n",
              "    (() => {\n",
              "      let quickchartButtonEl =\n",
              "        document.querySelector('#df-041e60f2-4501-4c9e-a007-b386776bb3aa button');\n",
              "      quickchartButtonEl.style.display =\n",
              "        google.colab.kernel.accessAllowed ? 'block' : 'none';\n",
              "    })();\n",
              "  </script>\n",
              "</div>\n",
              "\n",
              "    </div>\n",
              "  </div>\n"
            ],
            "application/vnd.google.colaboratory.intrinsic+json": {
              "type": "dataframe",
              "summary": "{\n  \"name\": \"df[:15]\",\n  \"rows\": 15,\n  \"fields\": [\n    {\n      \"column\": \"label\",\n      \"properties\": {\n        \"dtype\": \"uint8\",\n        \"num_unique_values\": 8,\n        \"samples\": [\n          2,\n          5,\n          9\n        ],\n        \"semantic_type\": \"\",\n        \"description\": \"\"\n      }\n    },\n    {\n      \"column\": \"predict\",\n      \"properties\": {\n        \"dtype\": \"number\",\n        \"std\": 2,\n        \"min\": 0,\n        \"max\": 9,\n        \"num_unique_values\": 9,\n        \"samples\": [\n          7,\n          2,\n          6\n        ],\n        \"semantic_type\": \"\",\n        \"description\": \"\"\n      }\n    }\n  ]\n}"
            }
          },
          "metadata": {},
          "execution_count": 454
        }
      ]
    },
    {
      "cell_type": "code",
      "source": [
        "df[(df.label==5)&(df.predict==3)]"
      ],
      "metadata": {
        "colab": {
          "base_uri": "https://localhost:8080/",
          "height": 53
        },
        "id": "nPJQPiQs6w1M",
        "outputId": "81e12741-a88b-43ad-c20b-a369f3450ff1"
      },
      "execution_count": 455,
      "outputs": [
        {
          "output_type": "execute_result",
          "data": {
            "text/plain": [
              "Empty DataFrame\n",
              "Columns: [label, predict]\n",
              "Index: []"
            ],
            "text/html": [
              "\n",
              "  <div id=\"df-edd381f5-d9db-4783-a48d-f0c632768934\" class=\"colab-df-container\">\n",
              "    <div>\n",
              "<style scoped>\n",
              "    .dataframe tbody tr th:only-of-type {\n",
              "        vertical-align: middle;\n",
              "    }\n",
              "\n",
              "    .dataframe tbody tr th {\n",
              "        vertical-align: top;\n",
              "    }\n",
              "\n",
              "    .dataframe thead th {\n",
              "        text-align: right;\n",
              "    }\n",
              "</style>\n",
              "<table border=\"1\" class=\"dataframe\">\n",
              "  <thead>\n",
              "    <tr style=\"text-align: right;\">\n",
              "      <th></th>\n",
              "      <th>label</th>\n",
              "      <th>predict</th>\n",
              "    </tr>\n",
              "  </thead>\n",
              "  <tbody>\n",
              "  </tbody>\n",
              "</table>\n",
              "</div>\n",
              "    <div class=\"colab-df-buttons\">\n",
              "\n",
              "  <div class=\"colab-df-container\">\n",
              "    <button class=\"colab-df-convert\" onclick=\"convertToInteractive('df-edd381f5-d9db-4783-a48d-f0c632768934')\"\n",
              "            title=\"Convert this dataframe to an interactive table.\"\n",
              "            style=\"display:none;\">\n",
              "\n",
              "  <svg xmlns=\"http://www.w3.org/2000/svg\" height=\"24px\" viewBox=\"0 -960 960 960\">\n",
              "    <path d=\"M120-120v-720h720v720H120Zm60-500h600v-160H180v160Zm220 220h160v-160H400v160Zm0 220h160v-160H400v160ZM180-400h160v-160H180v160Zm440 0h160v-160H620v160ZM180-180h160v-160H180v160Zm440 0h160v-160H620v160Z\"/>\n",
              "  </svg>\n",
              "    </button>\n",
              "\n",
              "  <style>\n",
              "    .colab-df-container {\n",
              "      display:flex;\n",
              "      gap: 12px;\n",
              "    }\n",
              "\n",
              "    .colab-df-convert {\n",
              "      background-color: #E8F0FE;\n",
              "      border: none;\n",
              "      border-radius: 50%;\n",
              "      cursor: pointer;\n",
              "      display: none;\n",
              "      fill: #1967D2;\n",
              "      height: 32px;\n",
              "      padding: 0 0 0 0;\n",
              "      width: 32px;\n",
              "    }\n",
              "\n",
              "    .colab-df-convert:hover {\n",
              "      background-color: #E2EBFA;\n",
              "      box-shadow: 0px 1px 2px rgba(60, 64, 67, 0.3), 0px 1px 3px 1px rgba(60, 64, 67, 0.15);\n",
              "      fill: #174EA6;\n",
              "    }\n",
              "\n",
              "    .colab-df-buttons div {\n",
              "      margin-bottom: 4px;\n",
              "    }\n",
              "\n",
              "    [theme=dark] .colab-df-convert {\n",
              "      background-color: #3B4455;\n",
              "      fill: #D2E3FC;\n",
              "    }\n",
              "\n",
              "    [theme=dark] .colab-df-convert:hover {\n",
              "      background-color: #434B5C;\n",
              "      box-shadow: 0px 1px 3px 1px rgba(0, 0, 0, 0.15);\n",
              "      filter: drop-shadow(0px 1px 2px rgba(0, 0, 0, 0.3));\n",
              "      fill: #FFFFFF;\n",
              "    }\n",
              "  </style>\n",
              "\n",
              "    <script>\n",
              "      const buttonEl =\n",
              "        document.querySelector('#df-edd381f5-d9db-4783-a48d-f0c632768934 button.colab-df-convert');\n",
              "      buttonEl.style.display =\n",
              "        google.colab.kernel.accessAllowed ? 'block' : 'none';\n",
              "\n",
              "      async function convertToInteractive(key) {\n",
              "        const element = document.querySelector('#df-edd381f5-d9db-4783-a48d-f0c632768934');\n",
              "        const dataTable =\n",
              "          await google.colab.kernel.invokeFunction('convertToInteractive',\n",
              "                                                    [key], {});\n",
              "        if (!dataTable) return;\n",
              "\n",
              "        const docLinkHtml = 'Like what you see? Visit the ' +\n",
              "          '<a target=\"_blank\" href=https://colab.research.google.com/notebooks/data_table.ipynb>data table notebook</a>'\n",
              "          + ' to learn more about interactive tables.';\n",
              "        element.innerHTML = '';\n",
              "        dataTable['output_type'] = 'display_data';\n",
              "        await google.colab.output.renderOutput(dataTable, element);\n",
              "        const docLink = document.createElement('div');\n",
              "        docLink.innerHTML = docLinkHtml;\n",
              "        element.appendChild(docLink);\n",
              "      }\n",
              "    </script>\n",
              "  </div>\n",
              "\n",
              "\n",
              "    </div>\n",
              "  </div>\n"
            ],
            "application/vnd.google.colaboratory.intrinsic+json": {
              "type": "dataframe",
              "summary": "{\n  \"name\": \"df[(df\",\n  \"rows\": 0,\n  \"fields\": [\n    {\n      \"column\": \"label\",\n      \"properties\": {\n        \"dtype\": \"uint8\",\n        \"num_unique_values\": 0,\n        \"samples\": [],\n        \"semantic_type\": \"\",\n        \"description\": \"\"\n      }\n    },\n    {\n      \"column\": \"predict\",\n      \"properties\": {\n        \"dtype\": \"number\",\n        \"std\": null,\n        \"min\": null,\n        \"max\": null,\n        \"num_unique_values\": 0,\n        \"samples\": [],\n        \"semantic_type\": \"\",\n        \"description\": \"\"\n      }\n    }\n  ]\n}"
            }
          },
          "metadata": {},
          "execution_count": 455
        }
      ]
    },
    {
      "cell_type": "code",
      "source": [
        "plot_images_labels_prediction(x_test_image,y_test_label\n",
        "                              ,prediction,idx=100,num=1)"
      ],
      "metadata": {
        "colab": {
          "base_uri": "https://localhost:8080/",
          "height": 232
        },
        "id": "fWu_l7ZA6x-c",
        "outputId": "6ee00bf6-5b92-4820-868c-e46f74febcc2"
      },
      "execution_count": 464,
      "outputs": [
        {
          "output_type": "display_data",
          "data": {
            "text/plain": [
              "<Figure size 1200x1400 with 1 Axes>"
            ],
            "image/png": "[encoded data removed]"
          },
          "metadata": {}
        }
      ]
    },
    {
      "cell_type": "code",
      "source": [
        "plot_images_labels_prediction(x_test_image,y_test_label\n",
        "                              ,prediction,idx=1289,num=1)"
      ],
      "metadata": {
        "colab": {
          "base_uri": "https://localhost:8080/",
          "height": 232
        },
        "id": "urB4JlS46zJN",
        "outputId": "6d6b9a51-c1e2-46f9-efe3-46bbe706bea2"
      },
      "execution_count": 465,
      "outputs": [
        {
          "output_type": "display_data",
          "data": {
            "text/plain": [
              "<Figure size 1200x1400 with 1 Axes>"
            ],
            "image/png": "[encoded data removed]"
          },
          "metadata": {}
        }
      ]
    },
    {
      "cell_type": "markdown",
      "source": [
        "#儲存完整模型\n"
      ],
      "metadata": {
        "id": "FzCpJqHD7Q4q"
      }
    },
    {
      "cell_type": "code",
      "source": [
        "from google.colab import drive\n",
        "\n",
        "drive.mount('/content/drive')"
      ],
      "metadata": {
        "colab": {
          "base_uri": "https://localhost:8080/"
        },
        "id": "XkEgbv1t7NmY",
        "outputId": "ede6f184-b65b-4610-f11d-13bd5c3df0a0"
      },
      "execution_count": 458,
      "outputs": [
        {
          "output_type": "stream",
          "name": "stdout",
          "text": [
            "Drive already mounted at /content/drive; to attempt to forcibly remount, call drive.mount(\"/content/drive\", force_remount=True).\n"
          ]
        }
      ]
    },
    {
      "cell_type": "code",
      "source": [
        "%cd '/content/drive/My Drive/Colab Notebooks'"
      ],
      "metadata": {
        "colab": {
          "base_uri": "https://localhost:8080/"
        },
        "id": "pasG1K_57Sge",
        "outputId": "caa6a210-f012-49fe-da73-964fc9e0c29f"
      },
      "execution_count": 459,
      "outputs": [
        {
          "output_type": "stream",
          "name": "stdout",
          "text": [
            "/content/drive/My Drive/Colab Notebooks\n"
          ]
        }
      ]
    },
    {
      "cell_type": "code",
      "source": [
        "model.save('hw3.keras')"
      ],
      "metadata": {
        "id": "D15rjP0K7UnM"
      },
      "execution_count": 460,
      "outputs": []
    },
    {
      "cell_type": "code",
      "source": [],
      "metadata": {
        "id": "O1vjerrM7VSy"
      },
      "execution_count": 460,
      "outputs": []
    }
  ]
}